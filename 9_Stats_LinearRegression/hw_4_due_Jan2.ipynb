{
 "cells": [
  {
   "cell_type": "markdown",
   "metadata": {},
   "source": [
    "# Homework 4\n",
    "## Due date: Friday 27th 23:59\n",
    "- Write your own code in the blanks. It is okay to collaborate with other students, but both students must write their own code and write the name of the other student in this cell. In case you adapt code from other sources you also must give that user credit (a comment with the link to the source suffices)\n",
    "- Complete the blanks, adding comments to explain what you are doing\n",
    "- Each plot must have labels\n",
    "\n",
    "Collaborated with:"
   ]
  },
  {
   "cell_type": "markdown",
   "metadata": {},
   "source": [
    "## Problem 1\n",
    "Using the data for your project, take a quantitative variable and a categorical variable.\n",
    "- Check the normality of the quantitative variable (e.g. x) for the different categories\n",
    "- If lognormal, transform it by using x = np.log(x)\n",
    "- Calculate confidence intervals of the mean and std of your variable using bootstrapping."
   ]
  },
  {
   "cell_type": "code",
   "execution_count": null,
   "metadata": {
    "collapsed": true
   },
   "outputs": [],
   "source": []
  },
  {
   "cell_type": "markdown",
   "metadata": {},
   "source": [
    "## Problem 2\n",
    "Using the data for your project, investigate the relationship between several quantitative variables (at least 3):\n",
    "\n",
    "- Part 1: Create a pairplot or correlation matrix (see class on data_visualization)\n",
    "\n",
    "- Part 2: Do one of the following and explain the reason why you're using that method:\n",
    "    - Linear regression\n",
    "    - Linear mixed effects regression\n",
    "    - Logistic regression\n",
    "    \n",
    "- Part 3: \n",
    "    - Do the diagnostics for the regression \n",
    "        - If mixed effects regression run a normal linear regression and run the diagnostics\n",
    "        - If logistic regression do part 4 more extensively -- i.e. creating odds ratios and interpreting them correctly.\n",
    "    \n",
    "- Part 4: \n",
    "    - Interpret briefly the summary table, including the diagnostics.\n",
    "        "
   ]
  },
  {
   "cell_type": "code",
   "execution_count": null,
   "metadata": {
    "collapsed": true
   },
   "outputs": [],
   "source": []
  }
 ],
 "metadata": {
  "anaconda-cloud": {},
  "kernelspec": {
   "display_name": "Python [conda root]",
   "language": "python",
   "name": "conda-root-py"
  },
  "language_info": {
   "codemirror_mode": {
    "name": "ipython",
    "version": 3
   },
   "file_extension": ".py",
   "mimetype": "text/x-python",
   "name": "python",
   "nbconvert_exporter": "python",
   "pygments_lexer": "ipython3",
   "version": "3.5.4"
  }
 },
 "nbformat": 4,
 "nbformat_minor": 1
}
