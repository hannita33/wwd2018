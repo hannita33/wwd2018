{
 "cells": [
  {
   "cell_type": "code",
   "execution_count": 35,
   "metadata": {},
   "outputs": [
    {
     "data": {
      "text/html": [
       "<style>.container { width:90% !important; }</style>"
      ],
      "text/plain": [
       "<IPython.core.display.HTML object>"
      ]
     },
     "metadata": {},
     "output_type": "display_data"
    }
   ],
   "source": [
    "##Some code to run at the beginning of the file, to be able to show images in the notebook\n",
    "##Don't worry about this cell\n",
    "\n",
    "#Print the plots in this screen\n",
    "%matplotlib inline \n",
    "\n",
    "#Be able to plot images saved in the hard drive\n",
    "from IPython.display import Image \n",
    "\n",
    "#Make the notebook wider\n",
    "from IPython.core.display import display, HTML \n",
    "display(HTML(\"<style>.container { width:90% !important; }</style>\"))\n",
    "\n",
    "import seaborn as sns\n",
    "import pylab as plt\n",
    "import pandas as pd\n",
    "import numpy as np\n",
    "import scipy.stats\n",
    "\n",
    "import statsmodels.formula.api as smf\n",
    "from linearmodels import PanelOLS,PooledOLS,RandomEffects"
   ]
  },
  {
   "cell_type": "markdown",
   "metadata": {},
   "source": [
    "## Plan\n",
    "- class6a_stats, look at summary tables\n",
    "- Review multilevel models\n",
    "- Enter slightly into panel models"
   ]
  },
  {
   "cell_type": "markdown",
   "metadata": {},
   "source": [
    "## 6.2 Hierarchical models / Mixed  models / Multilevel models\n",
    "- A normal model (with 1 or more independent variables) is a fixed effects model\n",
    "    - Random effects are:\n",
    "    - Factors likely to introduce systematic variation\n",
    "    - Different experimental units (groups) have different intercepts of slopes.\n",
    "    \n",
    "- You can control for in what is called a random effects model.\n",
    "    - **Random intercept model**: For instance, we want to measure the relationship between unemployment and productivity for different regions in many countries. Each country may have their own \"structural\" unemployment, we can get rid of this variability by using country as the random effects. --> (1|country)\n",
    "\n",
    "\n",
    "    - **Random intercept and slopes model**: Another example, we measure the relationship between two variables at different years in different countries. We don't really care about how they change in time, we only care about how one variable affect the other. We can use time as the random effect. --> (year|country)\n",
    "        \n",
    "    - You can have multiple random effects. In that case the random effects can be:\n",
    "        - Nested: E.g. region within country --> (1|country/region)\n",
    "        - Crossed: E.g. sector & country --> (1|sector) + (1|country)\n",
    "\n",
    "    - The design can be balanced (same number of observation per group) or unbalanced (different number). Unbalanced designs require special techniques, usually handled by the package.\n",
    "\n",
    "_Here paradox_        "
   ]
  },
  {
   "cell_type": "markdown",
   "metadata": {},
   "source": [
    "\n",
    "\n",
    "## 6.3 Longitudinal vs cross-sectional\n",
    "- Having time information is great:\n",
    "    - Allow us to test for Granger causality (x happens before y, thus x could be a cause of y)\n",
    "    - Allow us to increase the number of observations\n",
    "- Having time information is terrible:\n",
    "    - The observations are not independent anymore, we need to use hierarchical models.\n",
    "        - Pooled OLS (not a hierarchical model, usually not appropriate)\n",
    "        - **Between model** (also called random effects model)\n",
    "            - Looks at the effects of changes of x in y in time within and between individuals at the same time.\n",
    "            - If you have an omitted variables (and it is correlated with one of your independent variables) you'll have a problem.\n",
    "            - If you don't have an omitted variable then it's great.\n",
    "        - **Within model** (also called fixed effects model)\n",
    "            - Looks at the effects of changes of x in y in time only within individuals.\n",
    "            - The fixed effects are the subject-specific means.\n",
    "            - If the subjects don't change much in time you have a problem.\n",
    "            - You cannot include time-invariant values (such as gender).\n",
    "        - Mundlack. \n",
    "            - Looks at the effects of changes of x in y in time within and between individuals differenciating between the two.\n",
    "            - It's always great.\n",
    "    - If your aim is to predict or to look at complex time relationships that you cannot control for then you need to use other type of models such as AR, I, MA (or a combination).\n",
    "    \n",
    "Note: Panel means you have repeated measurements for each individual (or whatever your unit of analysis is)."
   ]
  },
  {
   "cell_type": "code",
   "execution_count": 3,
   "metadata": {},
   "outputs": [
    {
     "data": {
      "text/html": [
       "<div>\n",
       "<style scoped>\n",
       "    .dataframe tbody tr th:only-of-type {\n",
       "        vertical-align: middle;\n",
       "    }\n",
       "\n",
       "    .dataframe tbody tr th {\n",
       "        vertical-align: top;\n",
       "    }\n",
       "\n",
       "    .dataframe thead th {\n",
       "        text-align: right;\n",
       "    }\n",
       "</style>\n",
       "<table border=\"1\" class=\"dataframe\">\n",
       "  <thead>\n",
       "    <tr style=\"text-align: right;\">\n",
       "      <th></th>\n",
       "      <th></th>\n",
       "      <th>invest</th>\n",
       "      <th>value</th>\n",
       "      <th>capital</th>\n",
       "    </tr>\n",
       "    <tr>\n",
       "      <th>firm</th>\n",
       "      <th>year</th>\n",
       "      <th></th>\n",
       "      <th></th>\n",
       "      <th></th>\n",
       "    </tr>\n",
       "  </thead>\n",
       "  <tbody>\n",
       "    <tr>\n",
       "      <th rowspan=\"5\" valign=\"top\">b'General Motors'</th>\n",
       "      <th>1935</th>\n",
       "      <td>317.6</td>\n",
       "      <td>3078.5</td>\n",
       "      <td>2.8</td>\n",
       "    </tr>\n",
       "    <tr>\n",
       "      <th>1936</th>\n",
       "      <td>391.8</td>\n",
       "      <td>4661.7</td>\n",
       "      <td>52.6</td>\n",
       "    </tr>\n",
       "    <tr>\n",
       "      <th>1937</th>\n",
       "      <td>410.6</td>\n",
       "      <td>5387.1</td>\n",
       "      <td>156.9</td>\n",
       "    </tr>\n",
       "    <tr>\n",
       "      <th>1938</th>\n",
       "      <td>257.7</td>\n",
       "      <td>2792.2</td>\n",
       "      <td>209.2</td>\n",
       "    </tr>\n",
       "    <tr>\n",
       "      <th>1939</th>\n",
       "      <td>330.8</td>\n",
       "      <td>4313.2</td>\n",
       "      <td>203.4</td>\n",
       "    </tr>\n",
       "  </tbody>\n",
       "</table>\n",
       "</div>"
      ],
      "text/plain": [
       "                        invest   value  capital\n",
       "firm              year                         \n",
       "b'General Motors' 1935   317.6  3078.5      2.8\n",
       "                  1936   391.8  4661.7     52.6\n",
       "                  1937   410.6  5387.1    156.9\n",
       "                  1938   257.7  2792.2    209.2\n",
       "                  1939   330.8  4313.2    203.4"
      ]
     },
     "execution_count": 3,
     "metadata": {},
     "output_type": "execute_result"
    }
   ],
   "source": [
    "from statsmodels.datasets import grunfeld\n",
    "data = grunfeld.load_pandas().data\n",
    "data.year = data.year.astype(np.int64)\n",
    "data = data.set_index(['firm','year'])\n",
    "data.head()"
   ]
  },
  {
   "cell_type": "code",
   "execution_count": null,
   "metadata": {},
   "outputs": [],
   "source": [
    "from linearmodels import PanelOLS,PooledOLS,RandomEffects"
   ]
  },
  {
   "cell_type": "markdown",
   "metadata": {},
   "source": [
    "## Pooled OLS\n",
    "- It is a normal regression"
   ]
  },
  {
   "cell_type": "code",
   "execution_count": 4,
   "metadata": {},
   "outputs": [
    {
     "name": "stdout",
     "output_type": "stream",
     "text": [
      "                          PooledOLS Estimation Summary                          \n",
      "================================================================================\n",
      "Dep. Variable:                 invest   R-squared:                        0.8179\n",
      "Estimator:                  PooledOLS   R-squared (Between):              0.8426\n",
      "No. Observations:                 220   R-squared (Within):               0.7357\n",
      "Date:                Tue, Jan 30 2018   R-squared (Overall):              0.8179\n",
      "Time:                        00:13:10   Log-likelihood                   -1301.3\n",
      "Cov. Estimator:             Clustered                                           \n",
      "                                        F-statistic:                      487.28\n",
      "Entities:                          11   P-value                           0.0000\n",
      "Avg Obs:                       20.000   Distribution:                   F(2,217)\n",
      "Min Obs:                       20.000                                           \n",
      "Max Obs:                       20.000   F-statistic (robust):             52.506\n",
      "                                        P-value                           0.0000\n",
      "Time periods:                      20   Distribution:                   F(2,217)\n",
      "Avg Obs:                       11.000                                           \n",
      "Min Obs:                       11.000                                           \n",
      "Max Obs:                       11.000                                           \n",
      "                                                                                \n",
      "                             Parameter Estimates                              \n",
      "==============================================================================\n",
      "            Parameter  Std. Err.     T-stat    P-value    Lower CI    Upper CI\n",
      "------------------------------------------------------------------------------\n",
      "Intercept     -38.410     17.332    -2.2162     0.0277     -72.570     -4.2500\n",
      "value          0.1145     0.0155     7.3980     0.0000      0.0840      0.1450\n",
      "capital        0.2275     0.0817     2.7852     0.0058      0.0665      0.3885\n",
      "==============================================================================\n"
     ]
    },
    {
     "name": "stderr",
     "output_type": "stream",
     "text": [
      "/opt/anaconda/anaconda3/lib/python3.5/site-packages/linearmodels/panel/model.py:603: FutureWarning: `rcond` parameter will change to the default of machine precision times ``max(M, N)`` where M and N are the input matrix dimensions.\n",
      "To use the future default and silence this warning we advise to pass `rcond=None`, to keep using the old, explicitly pass `rcond=-1`.\n",
      "  params = lstsq(wx, wy)[0]\n"
     ]
    }
   ],
   "source": [
    "#\n",
    "mod_pooled = PooledOLS.from_formula('invest ~ 1 + value + capital', data)\n",
    "res_pooled = mod_pooled.fit(cov_type='clustered', cluster_entity=True)\n",
    "print(res_pooled.summary)\n"
   ]
  },
  {
   "cell_type": "markdown",
   "metadata": {},
   "source": [
    "#https://www.statalist.org/forums/forum/general-stata-discussion/general/1314121-r-squared-within-between-overall\n",
    " - Between R2 is \"How much of the variance between seperate panel units does my model account for\"\n",
    " - Within R2 is \"How much of the variance within the panel units does my model account for\"\n",
    " - Overall R2 is a weighted average of these two."
   ]
  },
  {
   "cell_type": "markdown",
   "metadata": {},
   "source": [
    "## Between regression\n",
    "- Idea: Looks at the average of all year points\n",
    "- When to use it:\n",
    "    - If we believe there is no omitted variable bias\n",
    "    - If we are interested in time-invariant variables (gender, sector, country...)\n",
    "- Simpsons paradox goes here!"
   ]
  },
  {
   "cell_type": "code",
   "execution_count": 8,
   "metadata": {},
   "outputs": [
    {
     "name": "stdout",
     "output_type": "stream",
     "text": [
      "Effects                   6201.934625\n",
      "Residual                  2530.041846\n",
      "Percent due to Effects       0.710256\n",
      "Name: Variance Decomposition, dtype: float64\n",
      "                         theta\n",
      "entity                        \n",
      "b'General Motors'     0.858616\n",
      "b'US Steel'           0.858616\n",
      "b'General Electric'   0.858616\n",
      "b'Chrysler'           0.858616\n",
      "b'Atlantic Refining'  0.858616\n",
      "                        RandomEffects Estimation Summary                        \n",
      "================================================================================\n",
      "Dep. Variable:                 invest   R-squared:                        0.7700\n",
      "Estimator:              RandomEffects   R-squared (Between):              0.8204\n",
      "No. Observations:                 220   R-squared (Within):               0.7666\n",
      "Date:                Tue, Jan 30 2018   R-squared (Overall):              0.8080\n",
      "Time:                        00:16:06   Log-likelihood                   -1172.9\n",
      "Cov. Estimator:             Clustered                                           \n",
      "                                        F-statistic:                      363.21\n",
      "Entities:                          11   P-value                           0.0000\n",
      "Avg Obs:                       20.000   Distribution:                   F(2,217)\n",
      "Min Obs:                       20.000                                           \n",
      "Max Obs:                       20.000   F-statistic (robust):             38.655\n",
      "                                        P-value                           0.0000\n",
      "Time periods:                      20   Distribution:                   F(2,217)\n",
      "Avg Obs:                       11.000                                           \n",
      "Min Obs:                       11.000                                           \n",
      "Max Obs:                       11.000                                           \n",
      "                                                                                \n",
      "                             Parameter Estimates                              \n",
      "==============================================================================\n",
      "            Parameter  Std. Err.     T-stat    P-value    Lower CI    Upper CI\n",
      "------------------------------------------------------------------------------\n",
      "Intercept     -53.944     21.648    -2.4919     0.0135     -96.611     -11.277\n",
      "value          0.1093     0.0131     8.3535     0.0000      0.0835      0.1351\n",
      "capital        0.3080     0.0524     5.8757     0.0000      0.2047      0.4114\n",
      "==============================================================================\n"
     ]
    },
    {
     "name": "stderr",
     "output_type": "stream",
     "text": [
      "/opt/anaconda/anaconda3/lib/python3.5/site-packages/linearmodels/panel/model.py:1731: FutureWarning: `rcond` parameter will change to the default of machine precision times ``max(M, N)`` where M and N are the input matrix dimensions.\n",
      "To use the future default and silence this warning we advise to pass `rcond=None`, to keep using the old, explicitly pass `rcond=-1`.\n",
      "  params = np.linalg.lstsq(x, y)[0]\n",
      "/opt/anaconda/anaconda3/lib/python3.5/site-packages/linearmodels/panel/model.py:1736: FutureWarning: `rcond` parameter will change to the default of machine precision times ``max(M, N)`` where M and N are the input matrix dimensions.\n",
      "To use the future default and silence this warning we advise to pass `rcond=None`, to keep using the old, explicitly pass `rcond=-1`.\n",
      "  params = np.linalg.lstsq(wxbar, wybar)[0]\n",
      "/opt/anaconda/anaconda3/lib/python3.5/site-packages/linearmodels/panel/model.py:1770: FutureWarning: `rcond` parameter will change to the default of machine precision times ``max(M, N)`` where M and N are the input matrix dimensions.\n",
      "To use the future default and silence this warning we advise to pass `rcond=None`, to keep using the old, explicitly pass `rcond=-1`.\n",
      "  params = np.linalg.lstsq(wx, wy)[0]\n",
      "/opt/anaconda/anaconda3/lib/python3.5/site-packages/linearmodels/panel/model.py:1787: FutureWarning: `rcond` parameter will change to the default of machine precision times ``max(M, N)`` where M and N are the input matrix dimensions.\n",
      "To use the future default and silence this warning we advise to pass `rcond=None`, to keep using the old, explicitly pass `rcond=-1`.\n",
      "  wmu = root_w * lstsq(root_w, wy)[0]\n"
     ]
    }
   ],
   "source": [
    "mod_between = RandomEffects.from_formula('invest ~ 1 + value + capital + EntityEffects', data)\n",
    "res_between = mod_random.fit(cov_type='clustered', cluster_entity=True)\n",
    "print(res_between.variance_decomposition)\n",
    "print(res_between.theta.head()) #1 = pooled\n",
    "print(res_between.summary)"
   ]
  },
  {
   "cell_type": "markdown",
   "metadata": {},
   "source": [
    "## Within regression\n",
    "- Looks only within the group\n",
    "- No time invariant things (like gender)\n",
    "- When to use it:\n",
    "    - If we suspect of omitted variable bias\n",
    "    - If we are not interested in time-invariant variables (gender, sector, country...)\n",
    "- Only feasible if enough variability within subjects (usually many years)\n"
   ]
  },
  {
   "cell_type": "code",
   "execution_count": 17,
   "metadata": {},
   "outputs": [
    {
     "name": "stdout",
     "output_type": "stream",
     "text": [
      "Effects                   6133.752486\n",
      "Residual                  2380.539374\n",
      "Percent due to Effects       0.720407\n",
      "Name: Variance Decomposition, dtype: float64\n",
      "                          PanelOLS Estimation Summary                           \n",
      "================================================================================\n",
      "Dep. Variable:                 invest   R-squared:                        0.7667\n",
      "Estimator:                   PanelOLS   R-squared (Between):              0.8193\n",
      "No. Observations:                 220   R-squared (Within):               0.7667\n",
      "Date:                Tue, Jan 30 2018   R-squared (Overall):              0.8071\n",
      "Time:                        00:18:06   Log-likelihood                   -1167.4\n",
      "Cov. Estimator:             Clustered                                           \n",
      "                                        F-statistic:                      340.08\n",
      "Entities:                          11   P-value                           0.0000\n",
      "Avg Obs:                       20.000   Distribution:                   F(2,207)\n",
      "Min Obs:                       20.000                                           \n",
      "Max Obs:                       20.000   F-statistic (robust):             31.346\n",
      "                                        P-value                           0.0000\n",
      "Time periods:                      20   Distribution:                   F(2,207)\n",
      "Avg Obs:                       11.000                                           \n",
      "Min Obs:                       11.000                                           \n",
      "Max Obs:                       11.000                                           \n",
      "                                                                                \n",
      "                             Parameter Estimates                              \n",
      "==============================================================================\n",
      "            Parameter  Std. Err.     T-stat    P-value    Lower CI    Upper CI\n",
      "------------------------------------------------------------------------------\n",
      "Intercept     -55.272     24.190    -2.2849     0.0233     -102.96     -7.5818\n",
      "value          0.1101     0.0144     7.6277     0.0000      0.0817      0.1386\n",
      "capital        0.3100     0.0501     6.1828     0.0000      0.2112      0.4089\n",
      "==============================================================================\n",
      "\n",
      "F-test for Poolability: 49.207\n",
      "P-value: 0.0000\n",
      "Distribution: F(10,207)\n",
      "\n",
      "Included effects: Entity\n"
     ]
    },
    {
     "name": "stderr",
     "output_type": "stream",
     "text": [
      "/opt/anaconda/anaconda3/lib/python3.5/site-packages/linearmodels/panel/model.py:1164: FutureWarning: `rcond` parameter will change to the default of machine precision times ``max(M, N)`` where M and N are the input matrix dimensions.\n",
      "To use the future default and silence this warning we advise to pass `rcond=None`, to keep using the old, explicitly pass `rcond=-1`.\n",
      "  params = np.linalg.lstsq(x, y)[0]\n",
      "/opt/anaconda/anaconda3/lib/python3.5/site-packages/linearmodels/panel/model.py:1223: FutureWarning: `rcond` parameter will change to the default of machine precision times ``max(M, N)`` where M and N are the input matrix dimensions.\n",
      "To use the future default and silence this warning we advise to pass `rcond=None`, to keep using the old, explicitly pass `rcond=-1`.\n",
      "  weps_pooled = wy - wx @ np.linalg.lstsq(wx, wy)[0]\n"
     ]
    }
   ],
   "source": [
    "mod_within = PanelOLS.from_formula('invest ~ 1 + value + capital + EntityEffects', data)\n",
    "res_within = mod_within.fit(cov_type='clustered', cluster_entity=True)\n",
    "print(res_within.variance_decomposition)\n",
    "print(res_within.summary)"
   ]
  },
  {
   "cell_type": "markdown",
   "metadata": {},
   "source": [
    "## Compare models\n",
    "- Pooled always maximize overall r2 (this is not necessarily good)"
   ]
  },
  {
   "cell_type": "code",
   "execution_count": 19,
   "metadata": {},
   "outputs": [
    {
     "data": {
      "text/html": [
       "<table class=\"simpletable\">\n",
       "<caption>Model Comparison</caption>\n",
       "<tr>\n",
       "             <td></td>                  <th>Between</th>         <th>Pooled</th>        <th>Within</th>    \n",
       "</tr>\n",
       "<tr>\n",
       "  <th>Dep. Variable</th>                <td>invest</td>          <td>invest</td>        <td>invest</td>    \n",
       "</tr>\n",
       "<tr>\n",
       "  <th>Estimator</th>                 <td>RandomEffects</td>     <td>PooledOLS</td>     <td>PanelOLS</td>   \n",
       "</tr>\n",
       "<tr>\n",
       "  <th>No. Observations</th>               <td>220</td>             <td>220</td>           <td>220</td>     \n",
       "</tr>\n",
       "<tr>\n",
       "  <th>Cov. Est.</th>                   <td>Clustered</td>       <td>Clustered</td>     <td>Clustered</td>  \n",
       "</tr>\n",
       "<tr>\n",
       "  <th>R-squared</th>                    <td>0.7700</td>          <td>0.8179</td>        <td>0.7667</td>    \n",
       "</tr>\n",
       "<tr>\n",
       "  <th>R-Squared (Within)</th>           <td>0.7666</td>          <td>0.7357</td>        <td>0.7667</td>    \n",
       "</tr>\n",
       "<tr>\n",
       "  <th>R-Squared (Between)</th>          <td>0.8204</td>          <td>0.8426</td>        <td>0.8193</td>    \n",
       "</tr>\n",
       "<tr>\n",
       "  <th>R-Squared (Overall)</th>          <td>0.8080</td>          <td>0.8179</td>        <td>0.8071</td>    \n",
       "</tr>\n",
       "<tr>\n",
       "  <th>F-statistic</th>                  <td>363.21</td>          <td>487.28</td>        <td>340.08</td>    \n",
       "</tr>\n",
       "<tr>\n",
       "  <th>P-value (F-stat)</th>             <td>0.0000</td>          <td>0.0000</td>        <td>0.0000</td>    \n",
       "</tr>\n",
       "<tr>\n",
       "  <th>=====================</th>    <td>===============</td>   <td>===========</td>   <td>===========</td> \n",
       "</tr>\n",
       "<tr>\n",
       "  <th>Intercept</th>                    <td>-53.944</td>         <td>-38.410</td>       <td>-55.272</td>   \n",
       "</tr>\n",
       "<tr>\n",
       "  <th> </th>                           <td>(-2.4919)</td>       <td>(-2.2162)</td>     <td>(-2.2849)</td>  \n",
       "</tr>\n",
       "<tr>\n",
       "  <th>value</th>                        <td>0.1093</td>          <td>0.1145</td>        <td>0.1101</td>    \n",
       "</tr>\n",
       "<tr>\n",
       "  <th> </th>                           <td>(8.3535)</td>        <td>(7.3980)</td>      <td>(7.6277)</td>   \n",
       "</tr>\n",
       "<tr>\n",
       "  <th>capital</th>                      <td>0.3080</td>          <td>0.2275</td>        <td>0.3100</td>    \n",
       "</tr>\n",
       "<tr>\n",
       "  <th> </th>                           <td>(5.8757)</td>        <td>(2.7852)</td>      <td>(6.1828)</td>   \n",
       "</tr>\n",
       "<tr>\n",
       "  <th>=======================</th> <td>=================</td> <td>=============</td> <td>=============</td>\n",
       "</tr>\n",
       "<tr>\n",
       "  <th>Effects</th>                         <td></td>                <td></td>           <td>Entity</td>    \n",
       "</tr>\n",
       "</table><br/><br/>T-stats reported in parentheses<br/>id: 0x7fd894559fd0"
      ],
      "text/plain": [
       "                           Model Comparison                          \n",
       "=====================================================================\n",
       "                                  Between        Pooled        Within\n",
       "---------------------------------------------------------------------\n",
       "Dep. Variable                      invest        invest        invest\n",
       "Estimator                   RandomEffects     PooledOLS      PanelOLS\n",
       "No. Observations                      220           220           220\n",
       "Cov. Est.                       Clustered     Clustered     Clustered\n",
       "R-squared                          0.7700        0.8179        0.7667\n",
       "R-Squared (Within)                 0.7666        0.7357        0.7667\n",
       "R-Squared (Between)                0.8204        0.8426        0.8193\n",
       "R-Squared (Overall)                0.8080        0.8179        0.8071\n",
       "F-statistic                        363.21        487.28        340.08\n",
       "P-value (F-stat)                   0.0000        0.0000        0.0000\n",
       "=====================     ===============   ===========   ===========\n",
       "Intercept                         -53.944       -38.410       -55.272\n",
       "                                (-2.4919)     (-2.2162)     (-2.2849)\n",
       "value                              0.1093        0.1145        0.1101\n",
       "                                 (8.3535)      (7.3980)      (7.6277)\n",
       "capital                            0.3080        0.2275        0.3100\n",
       "                                 (5.8757)      (2.7852)      (6.1828)\n",
       "======================= ================= ============= =============\n",
       "Effects                                                        Entity\n",
       "---------------------------------------------------------------------\n",
       "\n",
       "T-stats reported in parentheses\n",
       "PanelModelComparison, id: 0x7fd894559fd0"
      ]
     },
     "execution_count": 19,
     "metadata": {},
     "output_type": "execute_result"
    }
   ],
   "source": [
    "from linearmodels.panel import compare\n",
    "compare({'Between':res_between,'Within':res_within,'Pooled':res_pooled})"
   ]
  },
  {
   "cell_type": "code",
   "execution_count": null,
   "metadata": {},
   "outputs": [],
   "source": [
    "#https://bashtage.github.io/linearmodels/doc/panel/examples/examples.html"
   ]
  },
  {
   "cell_type": "code",
   "execution_count": 20,
   "metadata": {},
   "outputs": [
    {
     "data": {
      "text/html": [
       "<div>\n",
       "<style scoped>\n",
       "    .dataframe tbody tr th:only-of-type {\n",
       "        vertical-align: middle;\n",
       "    }\n",
       "\n",
       "    .dataframe tbody tr th {\n",
       "        vertical-align: top;\n",
       "    }\n",
       "\n",
       "    .dataframe thead th {\n",
       "        text-align: right;\n",
       "    }\n",
       "</style>\n",
       "<table border=\"1\" class=\"dataframe\">\n",
       "  <thead>\n",
       "    <tr style=\"text-align: right;\">\n",
       "      <th></th>\n",
       "      <th></th>\n",
       "      <th>invest</th>\n",
       "      <th>value</th>\n",
       "      <th>capital</th>\n",
       "    </tr>\n",
       "    <tr>\n",
       "      <th>firm</th>\n",
       "      <th>year</th>\n",
       "      <th></th>\n",
       "      <th></th>\n",
       "      <th></th>\n",
       "    </tr>\n",
       "  </thead>\n",
       "  <tbody>\n",
       "    <tr>\n",
       "      <th rowspan=\"5\" valign=\"top\">b'General Motors'</th>\n",
       "      <th>1935</th>\n",
       "      <td>317.6</td>\n",
       "      <td>3078.5</td>\n",
       "      <td>2.8</td>\n",
       "    </tr>\n",
       "    <tr>\n",
       "      <th>1936</th>\n",
       "      <td>391.8</td>\n",
       "      <td>4661.7</td>\n",
       "      <td>52.6</td>\n",
       "    </tr>\n",
       "    <tr>\n",
       "      <th>1937</th>\n",
       "      <td>410.6</td>\n",
       "      <td>5387.1</td>\n",
       "      <td>156.9</td>\n",
       "    </tr>\n",
       "    <tr>\n",
       "      <th>1938</th>\n",
       "      <td>257.7</td>\n",
       "      <td>2792.2</td>\n",
       "      <td>209.2</td>\n",
       "    </tr>\n",
       "    <tr>\n",
       "      <th>1939</th>\n",
       "      <td>330.8</td>\n",
       "      <td>4313.2</td>\n",
       "      <td>203.4</td>\n",
       "    </tr>\n",
       "  </tbody>\n",
       "</table>\n",
       "</div>"
      ],
      "text/plain": [
       "                        invest   value  capital\n",
       "firm              year                         \n",
       "b'General Motors' 1935   317.6  3078.5      2.8\n",
       "                  1936   391.8  4661.7     52.6\n",
       "                  1937   410.6  5387.1    156.9\n",
       "                  1938   257.7  2792.2    209.2\n",
       "                  1939   330.8  4313.2    203.4"
      ]
     },
     "execution_count": 20,
     "metadata": {},
     "output_type": "execute_result"
    }
   ],
   "source": [
    "data.head()"
   ]
  },
  {
   "cell_type": "code",
   "execution_count": 23,
   "metadata": {},
   "outputs": [
    {
     "name": "stdout",
     "output_type": "stream",
     "text": [
      "The rpy2.ipython extension is already loaded. To reload it, use:\n",
      "  %reload_ext rpy2.ipython\n"
     ]
    },
    {
     "data": {
      "text/plain": [
       "array([1], dtype=int32)"
      ]
     },
     "execution_count": 23,
     "metadata": {},
     "output_type": "execute_result"
    }
   ],
   "source": [
    "import rpy2\n",
    "%load_ext rpy2.ipython\n",
    "%R require(\"plm\")"
   ]
  },
  {
   "cell_type": "code",
   "execution_count": 32,
   "metadata": {},
   "outputs": [
    {
     "data": {
      "text/html": [
       "<div>\n",
       "<style scoped>\n",
       "    .dataframe tbody tr th:only-of-type {\n",
       "        vertical-align: middle;\n",
       "    }\n",
       "\n",
       "    .dataframe tbody tr th {\n",
       "        vertical-align: top;\n",
       "    }\n",
       "\n",
       "    .dataframe thead th {\n",
       "        text-align: right;\n",
       "    }\n",
       "</style>\n",
       "<table border=\"1\" class=\"dataframe\">\n",
       "  <thead>\n",
       "    <tr style=\"text-align: right;\">\n",
       "      <th></th>\n",
       "      <th>firm</th>\n",
       "      <th>year</th>\n",
       "      <th>invest</th>\n",
       "      <th>value</th>\n",
       "      <th>capital</th>\n",
       "    </tr>\n",
       "  </thead>\n",
       "  <tbody>\n",
       "    <tr>\n",
       "      <th>0</th>\n",
       "      <td>b'General Motors'</td>\n",
       "      <td>1935</td>\n",
       "      <td>317.6</td>\n",
       "      <td>3078.5</td>\n",
       "      <td>2.8</td>\n",
       "    </tr>\n",
       "    <tr>\n",
       "      <th>1</th>\n",
       "      <td>b'General Motors'</td>\n",
       "      <td>1936</td>\n",
       "      <td>391.8</td>\n",
       "      <td>4661.7</td>\n",
       "      <td>52.6</td>\n",
       "    </tr>\n",
       "    <tr>\n",
       "      <th>2</th>\n",
       "      <td>b'General Motors'</td>\n",
       "      <td>1937</td>\n",
       "      <td>410.6</td>\n",
       "      <td>5387.1</td>\n",
       "      <td>156.9</td>\n",
       "    </tr>\n",
       "    <tr>\n",
       "      <th>3</th>\n",
       "      <td>b'General Motors'</td>\n",
       "      <td>1938</td>\n",
       "      <td>257.7</td>\n",
       "      <td>2792.2</td>\n",
       "      <td>209.2</td>\n",
       "    </tr>\n",
       "    <tr>\n",
       "      <th>4</th>\n",
       "      <td>b'General Motors'</td>\n",
       "      <td>1939</td>\n",
       "      <td>330.8</td>\n",
       "      <td>4313.2</td>\n",
       "      <td>203.4</td>\n",
       "    </tr>\n",
       "  </tbody>\n",
       "</table>\n",
       "</div>"
      ],
      "text/plain": [
       "                firm  year  invest   value  capital\n",
       "0  b'General Motors'  1935   317.6  3078.5      2.8\n",
       "1  b'General Motors'  1936   391.8  4661.7     52.6\n",
       "2  b'General Motors'  1937   410.6  5387.1    156.9\n",
       "3  b'General Motors'  1938   257.7  2792.2    209.2\n",
       "4  b'General Motors'  1939   330.8  4313.2    203.4"
      ]
     },
     "execution_count": 32,
     "metadata": {},
     "output_type": "execute_result"
    }
   ],
   "source": [
    "noindex = data.reset_index()\n",
    "noindex.head()"
   ]
  },
  {
   "cell_type": "code",
   "execution_count": 31,
   "metadata": {},
   "outputs": [
    {
     "data": {
      "text/plain": [
       "Oneway (individual) effect Within Model\n",
       "\n",
       "Call:\n",
       "plm(formula = invest ~ value + capital, data = noindex, model = \"within\", \n",
       "    index = c(\"firm\", \"year\"))\n",
       "\n",
       "Balanced Panel: n=11, T=20, N=220\n",
       "\n",
       "Residuals :\n",
       "      Min.    1st Qu.     Median    3rd Qu.       Max. \n",
       "-184.00792  -15.66024    0.27161   16.41421  250.75337 \n",
       "\n",
       "Coefficients :\n",
       "        Estimate Std. Error t-value  Pr(>|t|)    \n",
       "value    0.11013    0.01130  9.7461 < 2.2e-16 ***\n",
       "capital  0.31003    0.01654 18.7439 < 2.2e-16 ***\n",
       "---\n",
       "Signif. codes:  0 ‘***’ 0.001 ‘**’ 0.01 ‘*’ 0.05 ‘.’ 0.1 ‘ ’ 1\n",
       "\n",
       "Total Sum of Squares:    2244500\n",
       "Residual Sum of Squares: 523720\n",
       "R-Squared:      0.76667\n",
       "Adj. R-Squared: 0.75314\n",
       "F-statistic: 340.079 on 2 and 207 DF, p-value: < 2.22e-16\n"
      ]
     },
     "metadata": {},
     "output_type": "display_data"
    }
   ],
   "source": [
    "%%R -i noindex\n",
    "\n",
    "#Random effects\n",
    "model_m_fR <- plm(invest~value+capital,\n",
    "           data=noindex,\n",
    "          index=c(\"firm\",\"year\"),\n",
    "          model=\"within\") #between for between models\n",
    "print(summary(model_m_fR))\n"
   ]
  },
  {
   "cell_type": "code",
   "execution_count": null,
   "metadata": {},
   "outputs": [],
   "source": []
  }
 ],
 "metadata": {
  "anaconda-cloud": {},
  "kernelspec": {
   "display_name": "Python [default]",
   "language": "python",
   "name": "python3"
  },
  "language_info": {
   "codemirror_mode": {
    "name": "ipython",
    "version": 3
   },
   "file_extension": ".py",
   "mimetype": "text/x-python",
   "name": "python",
   "nbconvert_exporter": "python",
   "pygments_lexer": "ipython3",
   "version": "3.5.4"
  }
 },
 "nbformat": 4,
 "nbformat_minor": 1
}
