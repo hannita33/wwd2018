{
 "cells": [
  {
   "cell_type": "code",
   "execution_count": null,
   "metadata": {
    "collapsed": true
   },
   "outputs": [],
   "source": [
    "# Homework 3\n",
    "## Due date: Wednesday 24th 23:59\n",
    "- Write your own code in the blanks. It is okay to collaborate with other students, but **both students must write their own code** (No C&P!) and write the name of the other student in this cell. In case you adapt code from other sources you also must give that user credit (a comment with the link to the source suffices)\n",
    "- Complete the blanks, adding comments to explain what you are doing\n",
    "- Each plot must have labels\n",
    "\n",
    "Collaborated with:"
   ]
  },
  {
   "cell_type": "code",
   "execution_count": 2,
   "metadata": {
    "collapsed": false
   },
   "outputs": [
    {
     "data": {
      "text/html": [
       "<style>.container { width:90% !important; }</style>"
      ],
      "text/plain": [
       "<IPython.core.display.HTML object>"
      ]
     },
     "metadata": {},
     "output_type": "display_data"
    }
   ],
   "source": [
    "##Some code to run at the beginning of the file, to be able to show images in the notebook\n",
    "##Don't worry about this cell\n",
    "\n",
    "#Print the plots in this screen\n",
    "%matplotlib inline \n",
    "\n",
    "#Be able to plot images saved in the hard drive\n",
    "from IPython.display import Image \n",
    "\n",
    "#Make the notebook wider\n",
    "from IPython.core.display import display, HTML \n",
    "display(HTML(\"<style>.container { width:90% !important; }</style>\"))\n",
    "\n",
    "import seaborn as sns\n",
    "import pylab as plt\n",
    "import pandas as pd\n",
    "import numpy as np"
   ]
  },
  {
   "cell_type": "markdown",
   "metadata": {},
   "source": [
    "## Assignment 1: Data visualization\n",
    "- Explain what do you think that is wrong with the following figures and what kind of plot would you use. There are many correct ways to answer.\n",
    "\n",
    "### Figure 1 \n",
    "- What do you think this plot shows?\n",
    "\n",
    "answer here\n",
    "- What is wrong with the style?\n",
    "\n",
    "answer here\n",
    "- What is wrong (or can be improved) with the type of plot?\n",
    "\n",
    "answer here\n",
    "- What type of plot would you use and why?\n",
    "\n",
    "answer here\n",
    "\n",
    "### Figure 2\n",
    "- What do you think this plot shows? \n",
    "\n",
    "answer here\n",
    "- What is wrong with the message it gives?\n",
    "\n",
    "answer here\n",
    "- What is wrong (or can be improved) with the type of plot? (https://en.wikipedia.org/wiki/Bar_chart)\n",
    "\n",
    "answer here\n"
   ]
  },
  {
   "cell_type": "code",
   "execution_count": 4,
   "metadata": {
    "collapsed": false
   },
   "outputs": [
    {
     "name": "stdout",
     "output_type": "stream",
     "text": [
      "Figure 1\n"
     ]
    },
    {
     "data": {
      "text/html": [
       "<img src=\"http://www.datavis.ca/gallery/images/galvanic-3D.png\" width=\"600\"/>"
      ],
      "text/plain": [
       "<IPython.core.display.Image object>"
      ]
     },
     "metadata": {},
     "output_type": "display_data"
    },
    {
     "name": "stdout",
     "output_type": "stream",
     "text": [
      "Figure 2\n"
     ]
    },
    {
     "data": {
      "text/html": [
       "<img src=\"http://www.econoclass.com/images/statdrivers.gif\"/>"
      ],
      "text/plain": [
       "<IPython.core.display.Image object>"
      ]
     },
     "metadata": {},
     "output_type": "display_data"
    }
   ],
   "source": [
    "print(\"Figure 1\")\n",
    "display(Image(url=\"http://www.datavis.ca/gallery/images/galvanic-3D.png\",width=600))\n",
    "print(\"Figure 2\")\n",
    "display(Image(url=\"http://www.econoclass.com/images/statdrivers.gif\"))"
   ]
  },
  {
   "cell_type": "markdown",
   "metadata": {},
   "source": [
    "## Assignment 2: Binomial test\n",
    " - Test if the poorest people are more likely to negotiate (df[\"colpaz1a\"] == \"Negociación\"), when compared with the entire population.\n",
    " - There are three options for the variable \"colpaz1a\": \"Negociación\", \"Uso de la fuerza militar\" and \"[No leer] Ambas\". Please discard the rows with \"[No leer] Ambas\" before the test.\n",
    " - The column with the income is \"q10new\". The group with the lowest income is \"Menos de 160.000\"\n",
    " \n",
    " - Answer the questions:\n",
    "     - How many people in the income group \"Menos de 160.000\" want to negociate?\n",
    "     - How many people in the income group \"Menos de 160.000\" want to fight?\n",
    "     - What is the probability that a random person in the group \"Menos de 160.000\" wants to negociate? -> This is our \"p\"\n",
    "     - How many people in total want to negociate?\n",
    "     - How many people in total want to fight?     \n",
    "     - What is the probability that a random person wants to negociate? -> This is the \"p\" of the entire population.\n",
    "     - Calculate the RR\n",
    "     - What's the null hypothesis?\n",
    "     - What's the alternative hypothesis?\n",
    "     - What's the p-value associated?\n",
    "     - What are the confidence intervals of our p?\n",
    "     - What can we say?\n",
    " "
   ]
  },
  {
   "cell_type": "code",
   "execution_count": 5,
   "metadata": {
    "collapsed": true
   },
   "outputs": [],
   "source": [
    "#Read data\n",
    "pd.read_stata(\"data/colombia.dta\")"
   ]
  },
  {
   "cell_type": "code",
   "execution_count": null,
   "metadata": {
    "collapsed": true
   },
   "outputs": [],
   "source": [
    "#Discard the rows with \"[No leer] Ambas\""
   ]
  },
  {
   "cell_type": "code",
   "execution_count": null,
   "metadata": {
    "collapsed": true
   },
   "outputs": [],
   "source": [
    "#How many people in the income group \"Menos de 160.000\" want to negociate? -> Our successes\n",
    "\n",
    "#How many people in the income group \"Menos de 160.000\" want to fight?\n",
    "\n",
    "#How many people are in the income group \"Menos de 160.000\"? -> Our number of trials\n",
    "\n",
    "#What is the probability that a random person in the group \"Menos de 160.000\" wants to negociate? -> This is our \"p\"\n",
    "\n",
    "#How many people in total want to negociate?\n",
    "\n",
    "#How many people in total want to fight?     \n",
    "\n",
    "#What is the probability that a random person wants to negociate? -> This is the \"p\" of the entire population.\n",
    "\n",
    "#Calculate the RR\n",
    "\n",
    "#What's the null hypothesis?\n",
    "\n",
    "#What's the alternative hypothesis?\n",
    "\n",
    "#What's the p-value associated? -> Do the stats\n",
    "\n",
    "#What are the confidence intervals of our p?\n",
    "\n",
    "#What can we say?\n"
   ]
  },
  {
   "cell_type": "markdown",
   "metadata": {},
   "source": [
    "## Assignment 3: Chi-square test\n",
    " - Test if there are interactions between income and how likely you are to negociate.\n",
    " - There are three options for the variable \"colpaz1a\", \"Negociación\", \"Uso de la fuerza militar\" and \"[No leer] Ambas\". Please discard the rows with \"[No leer] Ambas\" before the test.\n",
    " - The column with the income is \"q10new\". \n",
    " \n",
    " - Answer the questions:\n",
    "     - Can we see a trend in the crosstab?\n",
    "     - What does the Chi-square test say?\n",
    "     - What are the ratios of observed/expected?"
   ]
  },
  {
   "cell_type": "code",
   "execution_count": null,
   "metadata": {
    "collapsed": true
   },
   "outputs": [],
   "source": [
    "#Read data"
   ]
  },
  {
   "cell_type": "code",
   "execution_count": 16,
   "metadata": {
    "collapsed": false
   },
   "outputs": [],
   "source": [
    "df = pd.read_stata(\"data/colombia.dta\")\n",
    "df = df.loc[df[\"colpaz1a\"] != \"[No leer] Ambas\"]"
   ]
  },
  {
   "cell_type": "code",
   "execution_count": 44,
   "metadata": {
    "collapsed": true
   },
   "outputs": [],
   "source": [
    "df = df.loc[df[\"q10new\"] != \"Ningún ingreso\"]"
   ]
  },
  {
   "cell_type": "code",
   "execution_count": null,
   "metadata": {
    "collapsed": true
   },
   "outputs": [],
   "source": [
    "#Discard the rows with \"[No leer] Ambas\""
   ]
  },
  {
   "cell_type": "code",
   "execution_count": 23,
   "metadata": {
    "collapsed": false
   },
   "outputs": [],
   "source": [
    "df = df.dropna(subset=[\"colpaz1a\",\"q10new\"])"
   ]
  },
  {
   "cell_type": "code",
   "execution_count": null,
   "metadata": {
    "collapsed": false
   },
   "outputs": [],
   "source": [
    "df[\"colpaz1a\"].cat.remove_unused_categories()"
   ]
  },
  {
   "cell_type": "code",
   "execution_count": 52,
   "metadata": {
    "collapsed": false
   },
   "outputs": [
    {
     "name": "stdout",
     "output_type": "stream",
     "text": [
      "19.355273069 0.198083659002 15\n"
     ]
    }
   ],
   "source": [
    "#Can we see a trend in the crosstab?\n",
    "a = pd.crosstab(df[\"colpaz1a\"].astype(str),df[\"q10new\"].astype(str))\n",
    "#What does the Chi-square test say?\n",
    "import scipy.stats\n",
    "a2,p,b,exp = scipy.stats.chi2_contingency(a)\n",
    "#What are the ratios of observed/expected?\n",
    "print(a2,p,b)"
   ]
  },
  {
   "cell_type": "code",
   "execution_count": 53,
   "metadata": {
    "collapsed": false
   },
   "outputs": [
    {
     "data": {
      "text/html": [
       "<div>\n",
       "<table border=\"1\" class=\"dataframe\">\n",
       "  <thead>\n",
       "    <tr style=\"text-align: right;\">\n",
       "      <th>q10new</th>\n",
       "      <th>Entre 1.100.001  1.400.000</th>\n",
       "      <th>Entre 1.400.001  1.900.000</th>\n",
       "      <th>Entre 1.900.001  3.200.000</th>\n",
       "      <th>Entre 160.000  250.000</th>\n",
       "      <th>Entre 250.001  340.000</th>\n",
       "      <th>Entre 340.001  420.000</th>\n",
       "      <th>Entre 420.001  480.000</th>\n",
       "      <th>Entre 480.001  540.000</th>\n",
       "      <th>Entre 540.001  590.000</th>\n",
       "      <th>Entre 590.001  650.000</th>\n",
       "      <th>Entre 650.001  720.000</th>\n",
       "      <th>Entre 720.001  810.000</th>\n",
       "      <th>Entre 810.001  960.000</th>\n",
       "      <th>Entre 960.001  1.100.000</th>\n",
       "      <th>Menos de 160.000</th>\n",
       "      <th>Más de 3.200.000</th>\n",
       "    </tr>\n",
       "    <tr>\n",
       "      <th>colpaz1a</th>\n",
       "      <th></th>\n",
       "      <th></th>\n",
       "      <th></th>\n",
       "      <th></th>\n",
       "      <th></th>\n",
       "      <th></th>\n",
       "      <th></th>\n",
       "      <th></th>\n",
       "      <th></th>\n",
       "      <th></th>\n",
       "      <th></th>\n",
       "      <th></th>\n",
       "      <th></th>\n",
       "      <th></th>\n",
       "      <th></th>\n",
       "      <th></th>\n",
       "    </tr>\n",
       "  </thead>\n",
       "  <tbody>\n",
       "    <tr>\n",
       "      <th>Negociación</th>\n",
       "      <td>1.019584</td>\n",
       "      <td>0.875232</td>\n",
       "      <td>0.939273</td>\n",
       "      <td>1.203444</td>\n",
       "      <td>1.136586</td>\n",
       "      <td>1.053762</td>\n",
       "      <td>1.085459</td>\n",
       "      <td>1.088830</td>\n",
       "      <td>0.980584</td>\n",
       "      <td>1.023218</td>\n",
       "      <td>0.937336</td>\n",
       "      <td>0.978410</td>\n",
       "      <td>0.992313</td>\n",
       "      <td>0.851416</td>\n",
       "      <td>1.146137</td>\n",
       "      <td>0.899544</td>\n",
       "    </tr>\n",
       "    <tr>\n",
       "      <th>Uso de la fuerza militar</th>\n",
       "      <td>0.967607</td>\n",
       "      <td>1.206367</td>\n",
       "      <td>1.100443</td>\n",
       "      <td>0.663502</td>\n",
       "      <td>0.774086</td>\n",
       "      <td>0.911078</td>\n",
       "      <td>0.858650</td>\n",
       "      <td>0.853074</td>\n",
       "      <td>1.032114</td>\n",
       "      <td>0.961597</td>\n",
       "      <td>1.103647</td>\n",
       "      <td>1.035711</td>\n",
       "      <td>1.012714</td>\n",
       "      <td>1.245759</td>\n",
       "      <td>0.758288</td>\n",
       "      <td>1.166155</td>\n",
       "    </tr>\n",
       "  </tbody>\n",
       "</table>\n",
       "</div>"
      ],
      "text/plain": [
       "q10new                    Entre 1.100.001  1.400.000  \\\n",
       "colpaz1a                                                \n",
       "Negociación                                  1.019584   \n",
       "Uso de la fuerza militar                     0.967607   \n",
       "\n",
       "q10new                    Entre 1.400.001  1.900.000  \\\n",
       "colpaz1a                                                \n",
       "Negociación                                  0.875232   \n",
       "Uso de la fuerza militar                     1.206367   \n",
       "\n",
       "q10new                    Entre 1.900.001  3.200.000  \\\n",
       "colpaz1a                                                \n",
       "Negociación                                  0.939273   \n",
       "Uso de la fuerza militar                     1.100443   \n",
       "\n",
       "q10new                    Entre 160.000  250.000  Entre 250.001  340.000  \\\n",
       "colpaz1a                                                                     \n",
       "Negociación                              1.203444                 1.136586   \n",
       "Uso de la fuerza militar                 0.663502                 0.774086   \n",
       "\n",
       "q10new                    Entre 340.001  420.000  Entre 420.001  480.000  \\\n",
       "colpaz1a                                                                     \n",
       "Negociación                              1.053762                 1.085459   \n",
       "Uso de la fuerza militar                 0.911078                 0.858650   \n",
       "\n",
       "q10new                    Entre 480.001  540.000  Entre 540.001  590.000  \\\n",
       "colpaz1a                                                                     \n",
       "Negociación                              1.088830                 0.980584   \n",
       "Uso de la fuerza militar                 0.853074                 1.032114   \n",
       "\n",
       "q10new                    Entre 590.001  650.000  Entre 650.001  720.000  \\\n",
       "colpaz1a                                                                     \n",
       "Negociación                              1.023218                 0.937336   \n",
       "Uso de la fuerza militar                 0.961597                 1.103647   \n",
       "\n",
       "q10new                    Entre 720.001  810.000  Entre 810.001  960.000  \\\n",
       "colpaz1a                                                                     \n",
       "Negociación                              0.978410                 0.992313   \n",
       "Uso de la fuerza militar                 1.035711                 1.012714   \n",
       "\n",
       "q10new                    Entre 960.001  1.100.000  Menos de 160.000  \\\n",
       "colpaz1a                                                                \n",
       "Negociación                                0.851416          1.146137   \n",
       "Uso de la fuerza militar                   1.245759          0.758288   \n",
       "\n",
       "q10new                    Más de 3.200.000  \n",
       "colpaz1a                                    \n",
       "Negociación                       0.899544  \n",
       "Uso de la fuerza militar          1.166155  "
      ]
     },
     "execution_count": 53,
     "metadata": {},
     "output_type": "execute_result"
    }
   ],
   "source": [
    "a/exp"
   ]
  },
  {
   "cell_type": "code",
   "execution_count": null,
   "metadata": {
    "collapsed": true
   },
   "outputs": [],
   "source": [
    "pd.read_csv(\"../class3/data/world_bank/data.csv\")"
   ]
  },
  {
   "cell_type": "markdown",
   "metadata": {},
   "source": [
    "## Assignment 4: Read, melt, pivot, groupby\n",
    "1. Download your dataset for the quantitative design\n",
    "2. Explain what type of variables you have\n",
    "3. Fix the format to convert it into tidy data (Melt/Pivot). \n",
    "4. Save your dataset into a file (so you don't have to do the other things every time)\n",
    "5. Describe the data and visualize the relationship between all (or 10 if there are too many) variables with a scatter plot matrix or a correlation matrix\n",
    "6. Do some other cool plot.\n",
    "\n",
    "\n",
    "Note: If your data is already tidy before step 3, perform steps 3 and 4 in this dataset: \"data/cities.csv\", a dataset with the distances between 11 cities.\n",
    "\n"
   ]
  },
  {
   "cell_type": "code",
   "execution_count": null,
   "metadata": {
    "collapsed": true
   },
   "outputs": [],
   "source": [
    "#1. Download your dataset for the quantitative design\n",
    "\n",
    "#2. Explain what type of variables you have\n",
    "\n",
    "#3. Fix the format to convert it into tidy data (Melt/Pivot). \n",
    "\n",
    "#4. Save your dataset into a file (so you don't have to do the other things every time)\n",
    "\n",
    "#5. Describe the data and visualize the relationship between all (or 10 if there are too many) variables with a scatter plot matrix or a correlation matrix\n",
    "\n",
    "#6. Do some other cool plot.\n",
    "\n"
   ]
  }
 ],
 "metadata": {
  "anaconda-cloud": {},
  "kernelspec": {
   "display_name": "Python [default]",
   "language": "python",
   "name": "python3"
  },
  "language_info": {
   "codemirror_mode": {
    "name": "ipython",
    "version": 3
   },
   "file_extension": ".py",
   "mimetype": "text/x-python",
   "name": "python",
   "nbconvert_exporter": "python",
   "pygments_lexer": "ipython3",
   "version": "3.5.2"
  }
 },
 "nbformat": 4,
 "nbformat_minor": 1
}
