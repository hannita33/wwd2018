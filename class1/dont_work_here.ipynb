{
 "cells": [
  {
   "cell_type": "code",
   "execution_count": null,
   "metadata": {
    "collapsed": true
   },
   "outputs": [],
   "source": [
    "# Homework 1\n",
    "## Due date: Friday 13th\n",
    "- Write your own code in the blanks. It is okay to collaborate with other students, but both students must write their own code and write the name of the other student in this cell. In case you adapt code from other sources you also must give that user credit (a comment with the link to the source suffices)\n",
    "- Complete the blanks, adding comments to explain what you are doing\n",
    "- Assignment 4 will be weighted more\n",
    "\n",
    "Collaborated with:"
   ]
  },
  {
   "cell_type": "markdown",
   "metadata": {},
   "source": [
    "**First run this cell:**"
   ]
  },
  {
   "cell_type": "code",
   "execution_count": 46,
   "metadata": {
    "collapsed": true
   },
   "outputs": [],
   "source": [
    "plt.scatter?"
   ]
  },
  {
   "cell_type": "code",
   "execution_count": 52,
   "metadata": {
    "collapsed": false
   },
   "outputs": [
    {
     "data": {
      "text/html": [
       "<style>.container { width:90% !important; }</style>"
      ],
      "text/plain": [
       "<IPython.core.display.HTML object>"
      ]
     },
     "metadata": {},
     "output_type": "display_data"
    }
   ],
   "source": [
    "##Some code to run at the beginning of the file, to be able to show images in the notebook\n",
    "##Don't worry about this cell but run it\n",
    "\n",
    "#Print the plots in this screen\n",
    "%matplotlib inline \n",
    "\n",
    "#Be able to plot images saved in the hard drive\n",
    "from IPython.display import Image,display\n",
    "\n",
    "#Make the notebook wider\n",
    "from IPython.core.display import display, HTML \n",
    "display(HTML(\"<style>.container { width:90% !important; }</style>\"))"
   ]
  },
  {
   "cell_type": "markdown",
   "metadata": {},
   "source": [
    "## Assignment 1 (ungraded but important). Read some tutorials\n",
    "- Basic programming: This is a good video: https://www.youtube.com/watch?v=N4mEzFDjqtA (miuntes 2:30 -- 30:00)\n",
    "    - We covered 2:30 -- 15:45 in the first class, we'll cover most of the rest in the second class\n",
    "    - He doesn't use jupyter notebook but another editor. He writes in the left and the output appears in the right.    "
   ]
  },
  {
   "cell_type": "markdown",
   "metadata": {},
   "source": [
    "**Next, run the next cell to download some tutorials on pandas:**\n",
    "\n",
    "After downloading them, go to the jupyter dashboard and you'll see a folder pandas-cookbook, inside you can find a folder cookbook, where the tutorials are placed. Please play with the these ones:\n",
    "    - A quick tour of the IPython Notebook: Shows off IPython’s awesome tab completion and magic functions.\n",
    "    - Chapter 1: Reading your data into pandas is pretty much the easiest thing. Even when the encoding is wrong!\n",
    "    - Chapter 2: It’s not totally obvious how to select data from a pandas dataframe. Here we explain the basics (how to take slices and get columns)\n",
    "    - Chapter 3: Here we get into serious slicing and dicing and learn how to filter dataframes in complicated ways, really fast.\n",
    "    "
   ]
  },
  {
   "cell_type": "code",
   "execution_count": 2,
   "metadata": {
    "collapsed": false
   },
   "outputs": [
    {
     "name": "stdout",
     "output_type": "stream",
     "text": [
      "Cloning into 'pandas-cookbook'...\n",
      "remote: Counting objects: 410, done.\u001b[K\n",
      "remote: Total 410 (delta 0), reused 0 (delta 0), pack-reused 410\u001b[K\n",
      "Receiving objects: 100% (410/410), 10.53 MiB | 3.15 MiB/s, done.\n",
      "Resolving deltas: 100% (207/207), done.\n"
     ]
    }
   ],
   "source": [
    "!git clone https://github.com/jvns/pandas-cookbook.git"
   ]
  },
  {
   "cell_type": "markdown",
   "metadata": {},
   "source": [
    "## Assignment 2 \n",
    "- Create a list named *spam* with numbers from 1 to 100 numbers \n",
    "\n",
    "- Calculate the mean of the list \n",
    "\n",
    "- Calculate the mean of the first half of the list \n",
    "\n",
    "- Check if the first element is larger than the last element"
   ]
  },
  {
   "cell_type": "code",
   "execution_count": null,
   "metadata": {
    "collapsed": true
   },
   "outputs": [],
   "source": [
    "## Assingment 2 (20)\n",
    "#Create a list of numbers between 1 and 100 (tip: use range())\n",
    "spam = list(range(1,100))\n",
    "print(spam)\n",
    "\n",
    "#Calculate the mean of the list (tip: use sum() and len()) \n",
    "mean = \n",
    "print(mean)\n",
    "\n",
    "#Calculate the mean of the first half of the list (tip: slice the list) \n",
    "mean_first_half = spam[:50]\n",
    "print(mean_first_half)\n",
    "\n",
    "#Check if the first element is larger or equal than the last element  (>=)\n",
    "first_element = spam[0]\n",
    "last_elment = spam[-1]\n",
    "print() #this line needs to be completed, printing the result comparison\n",
    "\n",
    "#Convert the list spam to a tuple\n",
    "tuple_spam =\n",
    "print()"
   ]
  },
  {
   "cell_type": "markdown",
   "metadata": {},
   "source": [
    "## Assignment 3\n",
    "- import numpy as np\n",
    "- Create a numpy array of numbers between 1 and 10000 (tip: use np.arange())\n",
    "\n",
    "- Calculate the mean of the list (tip: np.mean()) \n",
    "\n",
    "- Filter the even numbers (tip: even number % 2 == 0) and save the resuls\n"
   ]
  },
  {
   "cell_type": "code",
   "execution_count": null,
   "metadata": {
    "collapsed": false
   },
   "outputs": [],
   "source": [
    "#import numpy as np\n",
    "import numpy as np\n",
    "\n",
    "#Create a numpy array of numbers between 1 and 10000 (tip: use np.arange())\n",
    "array =\n",
    "print(array)\n",
    "\n",
    "\n",
    "#Calculate the mean of the list (tip: np.mean()) \n",
    "mean =\n",
    "print(mean)\n",
    "\n",
    "\n",
    "#Filter the even numbers (tip: the remainder of dividing an even number by 2 is 0) and save the results to array_even\n",
    "filter_condition = \n",
    "array_even = array[filter_condition]\n",
    "print(array_even)\n"
   ]
  },
  {
   "cell_type": "markdown",
   "metadata": {},
   "source": [
    "## Assignment 4\n",
    "- Reading data\n",
    "    - a standard csv\n",
    "    - a csv using \"\\t\"\n",
    "    - a csv using a different encoding (try several until one works)\n",
    "    - a csv having no header\n",
    "    - a csv usign \"m\" as missing values (instead of \"nan\" or \"\" or \"-9\")\n",
    "    \n",
    "- Read a toy dataset on alcohol consumption with four columns\"\n",
    "    - adults: number of adults in household\n",
    "    - kids: number of kids in household\n",
    "    - income: average income\n",
    "    - consume: consume alcohol\n",
    "    \n",
    "- Print the top of the file (.head()), get descriptive statistics (.describe()) and make a contingency table visualizing the realtionship between number of adults (pd.crosstab())\n",
    "\n",
    "- Visualize the relationship between number of adults, alcohol consumption and income using the right type of plot (among the ones we learned). Think about what should the y variable, the x variable and the hue.\n",
    "\n",
    "- What plot would you use to model the number of adults vs income? \n"
   ]
  },
  {
   "cell_type": "code",
   "execution_count": null,
   "metadata": {
    "collapsed": true
   },
   "outputs": [],
   "source": [
    "#import pandas\n",
    "import pandas as pd"
   ]
  },
  {
   "cell_type": "code",
   "execution_count": null,
   "metadata": {
    "collapsed": true
   },
   "outputs": [],
   "source": [
    "#Read a standard csv, no strange things\n",
    "filename = \"data/hw1_csv_st.csv\"\n",
    "df_st = \n",
    "df_st.head()"
   ]
  },
  {
   "cell_type": "code",
   "execution_count": null,
   "metadata": {
    "collapsed": true
   },
   "outputs": [],
   "source": [
    "#Read a standard csv, careful, the file uses tabs (\"\\t\") as separators\n",
    "filename = \"data/hw1_csv_tab.csv\"\n",
    "df_tab = \n",
    "df_tab.head()"
   ]
  },
  {
   "cell_type": "code",
   "execution_count": 11,
   "metadata": {
    "collapsed": false
   },
   "outputs": [
    {
     "data": {
      "text/html": [
       "<div>\n",
       "<table border=\"1\" class=\"dataframe\">\n",
       "  <thead>\n",
       "    <tr style=\"text-align: right;\">\n",
       "      <th></th>\n",
       "      <th>Unnamed: 0</th>\n",
       "      <th>index</th>\n",
       "      <th>person</th>\n",
       "      <th>year</th>\n",
       "      <th>treatment</th>\n",
       "      <th>score</th>\n",
       "    </tr>\n",
       "  </thead>\n",
       "  <tbody>\n",
       "    <tr>\n",
       "      <th>0</th>\n",
       "      <td>0</td>\n",
       "      <td>0</td>\n",
       "      <td>1</td>\n",
       "      <td>2000</td>\n",
       "      <td>1</td>\n",
       "      <td>4</td>\n",
       "    </tr>\n",
       "    <tr>\n",
       "      <th>1</th>\n",
       "      <td>1</td>\n",
       "      <td>1</td>\n",
       "      <td>2</td>\n",
       "      <td>2000</td>\n",
       "      <td>1</td>\n",
       "      <td>3</td>\n",
       "    </tr>\n",
       "    <tr>\n",
       "      <th>2</th>\n",
       "      <td>2</td>\n",
       "      <td>2</td>\n",
       "      <td>3</td>\n",
       "      <td>2000</td>\n",
       "      <td>2</td>\n",
       "      <td>6</td>\n",
       "    </tr>\n",
       "    <tr>\n",
       "      <th>3</th>\n",
       "      <td>3</td>\n",
       "      <td>3</td>\n",
       "      <td>4</td>\n",
       "      <td>2000</td>\n",
       "      <td>2</td>\n",
       "      <td>4</td>\n",
       "    </tr>\n",
       "    <tr>\n",
       "      <th>4</th>\n",
       "      <td>4</td>\n",
       "      <td>4</td>\n",
       "      <td>1</td>\n",
       "      <td>2005</td>\n",
       "      <td>1</td>\n",
       "      <td>8</td>\n",
       "    </tr>\n",
       "  </tbody>\n",
       "</table>\n",
       "</div>"
      ],
      "text/plain": [
       "   Unnamed: 0  index  person  year  treatment  score\n",
       "0           0      0       1  2000          1      4\n",
       "1           1      1       2  2000          1      3\n",
       "2           2      2       3  2000          2      6\n",
       "3           3      3       4  2000          2      4\n",
       "4           4      4       1  2005          1      8"
      ]
     },
     "execution_count": 11,
     "metadata": {},
     "output_type": "execute_result"
    }
   ],
   "source": [
    "#Read a standard csv, careful, the file uses a different encoding (no UTF-8)\n",
    "filename = \"data/hw1_csv_enc.csv\"\n",
    "df_enc = pd.read_csv(filename,encoding=\"iso-8859-1\")\n",
    "df_enc.head()"
   ]
  },
  {
   "cell_type": "code",
   "execution_count": null,
   "metadata": {
    "collapsed": true
   },
   "outputs": [],
   "source": [
    "#Read a standard csv, careful, the file does not have a header\n",
    "filename = \"data/hw1_csv_header.csv\"\n",
    "df_hea = \n",
    "df_hea.head()"
   ]
  },
  {
   "cell_type": "code",
   "execution_count": null,
   "metadata": {
    "collapsed": true
   },
   "outputs": [],
   "source": [
    "#Read a standard csv, careful, the file uses \"m\" to indicate a missing value\n",
    "filename = \"data/hw1_csv_weird_na.csv\"\n",
    "df_na = \n",
    "df_na.head()"
   ]
  },
  {
   "cell_type": "markdown",
   "metadata": {},
   "source": [
    "---"
   ]
  },
  {
   "cell_type": "code",
   "execution_count": null,
   "metadata": {
    "collapsed": false,
    "scrolled": true
   },
   "outputs": [],
   "source": [
    "#read stata file (the file is in \"data/alcohol.dta\" and it is a stata file)\n",
    "df = \n",
    "\n",
    "#print top of the file to explore it (.head())\n"
   ]
  },
  {
   "cell_type": "markdown",
   "metadata": {},
   "source": [
    "** What type of variables are in the dataset?**\n",
    "\n",
    "For help check: https://www.boundless.com/statistics/textbooks/boundless-statistics-textbook/visualizing-data-3/the-histogram-18/types-of-variables-87-4406/\n",
    "\n",
    "answer here\n",
    "\n",
    "- adults: \n",
    "- kids: \n",
    "- income: \n",
    "- consume: \n"
   ]
  },
  {
   "cell_type": "code",
   "execution_count": null,
   "metadata": {
    "collapsed": true
   },
   "outputs": [],
   "source": [
    "#print descriptive statistics and interpret them (.describe())\n",
    "df."
   ]
  },
  {
   "cell_type": "code",
   "execution_count": null,
   "metadata": {
    "collapsed": true
   },
   "outputs": [],
   "source": [
    "#keep only the households without kids and use this dataset for the rest of the assignment\n",
    "filtering_condition =\n",
    "df_nokids = df.loc[filtering_condition]"
   ]
  },
  {
   "cell_type": "code",
   "execution_count": 49,
   "metadata": {
    "collapsed": true
   },
   "outputs": [],
   "source": [
    "df = pd.read_stata(\"data/alcohol.dta\")"
   ]
  },
  {
   "cell_type": "code",
   "execution_count": 31,
   "metadata": {
    "collapsed": false
   },
   "outputs": [],
   "source": [
    "#visualize the relationship between number of adults, alcohol consumption and income using the right type of plot\n"
   ]
  },
  {
   "cell_type": "code",
   "execution_count": null,
   "metadata": {
    "collapsed": true
   },
   "outputs": [],
   "source": [
    "#save the plot as a pdf with the name \"hw1_plot.pdf\"\n",
    "\n"
   ]
  },
  {
   "cell_type": "markdown",
   "metadata": {},
   "source": [
    "** Interpret the plot you just made **\n",
    "\n",
    "answer here\n"
   ]
  },
  {
   "cell_type": "markdown",
   "metadata": {},
   "source": [
    "** What plot(s) would you use to model the number of adults vs income? Why? **\n",
    "\n",
    "answer here"
   ]
  },
  {
   "cell_type": "code",
   "execution_count": null,
   "metadata": {
    "collapsed": true
   },
   "outputs": [],
   "source": [
    "#Visualize the relationship between number of adults and number of kids using a contingency table using pd.crosstab(df[x],df[y])\n"
   ]
  },
  {
   "cell_type": "markdown",
   "metadata": {},
   "source": [
    "** Interpret the table you just made **\n",
    "\n",
    "answer here"
   ]
  },
  {
   "cell_type": "markdown",
   "metadata": {},
   "source": [
    "## Data visualization\n",
    "- We'll talk about data visualization theory in another class but as a general rule remember that SIMPLE IS BETTER (play the video in the cell below)\n"
   ]
  },
  {
   "cell_type": "code",
   "execution_count": 4,
   "metadata": {
    "collapsed": false,
    "scrolled": true
   },
   "outputs": [
    {
     "data": {
      "text/html": [
       "<!-- TODO -->\n",
       "<iframe width=\"560\" height=\"315\" src=\"https://zippy.gfycat.com/ImprobableFemaleBasenji.webm\" frameborder=\"0\" allowfullscreen></iframe>"
      ],
      "text/plain": [
       "<IPython.core.display.HTML object>"
      ]
     },
     "metadata": {},
     "output_type": "display_data"
    }
   ],
   "source": [
    "%%html\n",
    "<!-- TODO -->\n",
    "<iframe width=\"560\" height=\"315\" src=\"https://zippy.gfycat.com/ImprobableFemaleBasenji.webm\" frameborder=\"0\" allowfullscreen></iframe>"
   ]
  },
  {
   "cell_type": "code",
   "execution_count": 7,
   "metadata": {
    "collapsed": false
   },
   "outputs": [
    {
     "data": {
      "text/html": [
       "<img src=\"http://www.datavis.ca/gallery/images/pies/PiesIHaveEaten.png\"/>"
      ],
      "text/plain": [
       "<IPython.core.display.Image object>"
      ]
     },
     "execution_count": 7,
     "metadata": {},
     "output_type": "execute_result"
    }
   ],
   "source": [
    "#The only honest pie chart\n",
    "Image(url=\"http://www.datavis.ca/gallery/images/pies/PiesIHaveEaten.png\")"
   ]
  },
  {
   "cell_type": "markdown",
   "metadata": {},
   "source": [
    "---"
   ]
  },
  {
   "cell_type": "markdown",
   "metadata": {},
   "source": [
    "## Assignment 5: Explain a figure \n",
    "- All the plots below have the same correlation (R^2 = 0.67)\n",
    "\n",
    "Edit the cell below to answer the questions\n",
    "\n",
    "---"
   ]
  },
  {
   "cell_type": "markdown",
   "metadata": {},
   "source": [
    "- What can we say from these plots?\n",
    "\n",
    "answer here\n",
    "- Now change the \"alpha\" parameter in the code below from 0 to 1 and run the cell.\n",
    "\n",
    "answer here\n",
    "- What can we say now about the plots? \n",
    "\n",
    "answer here"
   ]
  },
  {
   "cell_type": "code",
   "execution_count": 8,
   "metadata": {
    "collapsed": false
   },
   "outputs": [
    {
     "data": {
      "text/plain": [
       "<seaborn.axisgrid.FacetGrid at 0x7f2f3dade048>"
      ]
     },
     "execution_count": 8,
     "metadata": {},
     "output_type": "execute_result"
    },
    {
     "data": {
      "image/png": "[encoded data removed]",
      "text/plain": [
       "<matplotlib.figure.Figure at 0x7f2f3dade2e8>"
      ]
     },
     "metadata": {},
     "output_type": "display_data"
    }
   ],
   "source": [
    "import seaborn as sns\n",
    "sns.set(style=\"ticks\")\n",
    "\n",
    "# Load the example dataset for Anscombe's quartet\n",
    "df = sns.load_dataset(\"anscombe\")\n",
    "\n",
    "# Show the results of a linear regression within each dataset\n",
    "sns.lmplot(x=\"x\", y=\"y\", col=\"dataset\", hue=\"dataset\", data=df,\n",
    "           col_wrap=2, ci=None, palette=\"muted\", size=4,\n",
    "           scatter_kws={\"s\": 50, \"alpha\": 0})"
   ]
  },
  {
   "cell_type": "markdown",
   "metadata": {},
   "source": [
    "---"
   ]
  },
  {
   "cell_type": "markdown",
   "metadata": {},
   "source": [
    "## Assignment 6: Now it's your turn\n",
    "- Download a csv from here: https://vincentarelbundock.github.io/Rdatasets/datasets.html\n",
    "- Upload it to the data folder\n",
    "- Read the folder\n",
    "- Check its head and describe it\n",
    "- Write a couple of lines about what types of variables we have in the csv (e.g. quantitative, qualitative...)\n",
    "- Visualize the relationship between 2 or 3 variables with a scatter plot, a line plot or a boxplot\n",
    "- Explain what the plot shows"
   ]
  },
  {
   "cell_type": "code",
   "execution_count": null,
   "metadata": {
    "collapsed": true
   },
   "outputs": [],
   "source": []
  }
 ],
 "metadata": {
  "anaconda-cloud": {},
  "kernelspec": {
   "display_name": "Python [default]",
   "language": "python",
   "name": "python3"
  },
  "language_info": {
   "codemirror_mode": {
    "name": "ipython",
    "version": 3
   },
   "file_extension": ".py",
   "mimetype": "text/x-python",
   "name": "python",
   "nbconvert_exporter": "python",
   "pygments_lexer": "ipython3",
   "version": "3.5.2"
  }
 },
 "nbformat": 4,
 "nbformat_minor": 0
}
