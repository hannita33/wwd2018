{
 "cells": [
  {
   "cell_type": "markdown",
   "metadata": {},
   "source": [
    "# Working with data 2017. Class 1 \n",
    "## Contact\n",
    "Javier Garcia-Bernardo\n",
    "garcia@uva.nl\n",
    "\n",
    "\n",
    "## 0. Structure\n",
    "1. About Python\n",
    "2. Data types, structures and code\n",
    "3. Read csv files to dataframes\n",
    "4. Basic operations with dataframes\n",
    "5. My first plots\n",
    "6. Debugging python\n",
    "7. Summary \n"
   ]
  },
  {
   "cell_type": "code",
   "execution_count": 1,
   "metadata": {
    "collapsed": false
   },
   "outputs": [
    {
     "data": {
      "text/html": [
       "<style>.container { width:90% !important; }</style>"
      ],
      "text/plain": [
       "<IPython.core.display.HTML object>"
      ]
     },
     "metadata": {},
     "output_type": "display_data"
    }
   ],
   "source": [
    "##Some code to run at the beginning of the file, to be able to show images in the notebook\n",
    "##Don't worry about this cell\n",
    "\n",
    "#Print the plots in this screen\n",
    "%matplotlib inline \n",
    "\n",
    "#Be able to plot images saved in the hard drive\n",
    "from IPython.display import Image \n",
    "\n",
    "#Make the notebook wider\n",
    "from IPython.core.display import display, HTML \n",
    "display(HTML(\"<style>.container { width:90% !important; }</style>\"))"
   ]
  },
  {
   "cell_type": "markdown",
   "metadata": {},
   "source": [
    "---"
   ]
  },
  {
   "cell_type": "markdown",
   "metadata": {},
   "source": [
    "# 2. PYTHON: Data types, structures and code\n",
    "Python uses variables and code.\n",
    "\n",
    "\n",
    "### 2.1 Variables\n",
    "Variables tell the computer to save something (a number, a string, a spreadsheet) with a name.\n",
    "\n",
    "For instance, if you write **variable_name = 3**, the computer knows that *variable_name* is 3.\n",
    "\n",
    "Variables can represents:\n",
    "- **2.1.1 Data types**: Numbers, strings and others\n",
    "- **2.1.2 Data structures**: \n",
    "    - Lists, tables... (which organize data types)\n",
    "\n",
    "\n",
    "### 2.2 Code\n",
    "- Instructions to modify variables\n",
    "- Can be organized in functions\n"
   ]
  },
  {
   "cell_type": "markdown",
   "metadata": {},
   "source": [
    "## 2.1.2 Most common data structures\n",
    "- **2.1.2.1 list** = notebook (you can add things, take out things, everything is in order). e.g. a list of the numbers 1,2 and 3: [1,2,3]\n",
    "- **2.1.2.2 tuple** = book  (you cannot change it after it's printed). (1,2,3)\n",
    "- **2.1.2.3 set** = keywords in a paper (you can check if something exists easily). {1,2,3}\n",
    "- **2.1.2.4 dictionary** = index (you can find content easily). {\"a\":1, \"b\":2, \"c\":3}\n",
    "- **2.1.2.5 numpy array** = fast list for math. np.array([1,2,3])\n",
    "- **2.1.2.6 pandas dataframe** = spreedsheet. np.DataFrame([1,2,3],columns=[\"a\",\"b\",\"c\"])\n",
    "\n",
    "**They have methods** = ways to edit the data structure. For example add, delete, find, sort... (= functions in excel)"
   ]
  },
  {
   "cell_type": "markdown",
   "metadata": {},
   "source": [
    "### 2.1.2.1 Lists\n",
    "- Combines a series of variables in order\n",
    "- Fast to add and delete variables, slow to find variables (needs to go over all the elements)"
   ]
  },
  {
   "cell_type": "code",
   "execution_count": 2,
   "metadata": {
    "collapsed": false
   },
   "outputs": [
    {
     "name": "stdout",
     "output_type": "stream",
     "text": [
      "[1, 2, 3]\n"
     ]
    }
   ],
   "source": [
    "##this is a list\n",
    "print([1,2,3])"
   ]
  },
  {
   "cell_type": "code",
   "execution_count": 2,
   "metadata": {
    "collapsed": false
   },
   "outputs": [
    {
     "name": "stdout",
     "output_type": "stream",
     "text": [
      "<class 'list'>\n"
     ]
    }
   ],
   "source": [
    "print(type([1,2,3]))"
   ]
  },
  {
   "cell_type": "code",
   "execution_count": 3,
   "metadata": {
    "collapsed": false
   },
   "outputs": [
    {
     "name": "stdout",
     "output_type": "stream",
     "text": [
      "[3.5, \"I'm another string\", 4]\n",
      "[3.5, \"I'm another string\", 4, [3.5, \"I'm another string\", 4]]\n"
     ]
    }
   ],
   "source": [
    "# A list can combine several data types\n",
    "this_is_list1 = [3.5,\"I'm another string\",4]\n",
    "print(this_is_list1)\n",
    "\n",
    "# It can even combine several data structures, for instance a list inside a list\n",
    "this_is_list2 = [3.5,\"I'm another string\",4,this_is_list1]\n",
    "print(this_is_list2)"
   ]
  },
  {
   "cell_type": "markdown",
   "metadata": {},
   "source": [
    "**OPERATIONS IN LISTS**"
   ]
  },
  {
   "cell_type": "code",
   "execution_count": 1,
   "metadata": {
    "collapsed": false
   },
   "outputs": [
    {
     "name": "stdout",
     "output_type": "stream",
     "text": [
      "Original:  [1, 3, 2, 'b']\n"
     ]
    }
   ],
   "source": [
    "## A list\n",
    "this_is_a_list = [1,3,2,\"b\"]\n",
    "print(\"Original: \", this_is_a_list)"
   ]
  },
  {
   "cell_type": "markdown",
   "metadata": {},
   "source": [
    "**Add element**"
   ]
  },
  {
   "cell_type": "code",
   "execution_count": 2,
   "metadata": {
    "collapsed": false
   },
   "outputs": [
    {
     "name": "stdout",
     "output_type": "stream",
     "text": [
      "Added c:  [1, 3, 2, 'b', 'c']\n"
     ]
    }
   ],
   "source": [
    "## Add elements\n",
    "this_is_a_list.append(\"c\")\n",
    "print(\"Added c: \", this_is_a_list)"
   ]
  },
  {
   "cell_type": "markdown",
   "metadata": {},
   "source": [
    "**Retrieve element**\n",
    "\n",
    "**CAREFUL**:  The first element has index 0, which means that this_is_a_list[0] gets the first element and  this_is_a_list[1] gets the second element"
   ]
  },
  {
   "cell_type": "code",
   "execution_count": 11,
   "metadata": {
    "collapsed": false
   },
   "outputs": [
    {
     "name": "stdout",
     "output_type": "stream",
     "text": [
      "Fourth element:  b\n"
     ]
    }
   ],
   "source": [
    "## Get element. The first element has index 0, which means that this_is_a_list[0] gets the first element\n",
    "print(\"Fourth element: \", this_is_a_list[3])"
   ]
  },
  {
   "cell_type": "markdown",
   "metadata": {},
   "source": [
    "**Get slices** \n",
    "- Get a part of list. This is important"
   ]
  },
  {
   "cell_type": "code",
   "execution_count": 7,
   "metadata": {
    "collapsed": false
   },
   "outputs": [
    {
     "data": {
      "text/plain": [
       "[0, 1, 2, 3, 4]"
      ]
     },
     "execution_count": 7,
     "metadata": {},
     "output_type": "execute_result"
    }
   ],
   "source": [
    "this_is_a_list"
   ]
  },
  {
   "cell_type": "code",
   "execution_count": 6,
   "metadata": {
    "collapsed": false
   },
   "outputs": [
    {
     "data": {
      "text/plain": [
       "[1, 2]"
      ]
     },
     "execution_count": 6,
     "metadata": {},
     "output_type": "execute_result"
    }
   ],
   "source": [
    "this_is_a_list[1:3]"
   ]
  },
  {
   "cell_type": "code",
   "execution_count": null,
   "metadata": {
    "collapsed": true
   },
   "outputs": [],
   "source": []
  },
  {
   "cell_type": "code",
   "execution_count": 4,
   "metadata": {
    "collapsed": false
   },
   "outputs": [
    {
     "name": "stdout",
     "output_type": "stream",
     "text": [
      "[0, 1, 2, 3, 4]\n",
      "Second to end element:  [1, 2, 3, 4]\n"
     ]
    }
   ],
   "source": [
    "#All list\n",
    "this_is_a_list = [0,1,2,3,4]\n",
    "print(this_is_a_list)\n",
    "#\"Second to end element (included)\"\n",
    "print(\"Second to end element: \", this_is_a_list[1:])\n"
   ]
  },
  {
   "cell_type": "code",
   "execution_count": 5,
   "metadata": {
    "collapsed": false
   },
   "outputs": [
    {
     "name": "stdout",
     "output_type": "stream",
     "text": [
      "Second to the fourth (included):  [1, 2, 3]\n",
      "First to the last element (not included):  [0, 1, 2, 3]\n"
     ]
    }
   ],
   "source": [
    "#Second to the fourth (included)\n",
    "print(\"Second to the fourth (included): \",this_is_a_list[1:4])\n",
    "\n",
    "#First to the last element (not included)\n",
    "print(\"First to the last element (not included): \",this_is_a_list[:-1])\n"
   ]
  },
  {
   "cell_type": "markdown",
   "metadata": {},
   "source": [
    "**Remove element**"
   ]
  },
  {
   "cell_type": "code",
   "execution_count": 6,
   "metadata": {
    "collapsed": false
   },
   "outputs": [
    {
     "name": "stdout",
     "output_type": "stream",
     "text": [
      "Original:  [0, 1, 2, 3, 4]\n",
      "3\n",
      "The list is now:  [0, 1, 2, 4]\n"
     ]
    }
   ],
   "source": [
    "print(\"Original: \", this_is_a_list)\n",
    "## Remove 4th element and save it as removed_element\n",
    "removed_element = this_is_a_list.pop(3)\n",
    "print(removed_element)\n",
    "print(\"The list is now: \", this_is_a_list)"
   ]
  },
  {
   "cell_type": "code",
   "execution_count": 8,
   "metadata": {
    "collapsed": true
   },
   "outputs": [],
   "source": [
    "this_is_a_list = [1,2,3,4,5]"
   ]
  },
  {
   "cell_type": "markdown",
   "metadata": {},
   "source": [
    "**Search**\n",
    "- element in list\n",
    "- Note that this also works for strings (in fact, a string is very similar to a list of characters): \"eggs\" in \"eegs and bacon\""
   ]
  },
  {
   "cell_type": "code",
   "execution_count": 9,
   "metadata": {
    "collapsed": false
   },
   "outputs": [
    {
     "name": "stdout",
     "output_type": "stream",
     "text": [
      "True\n"
     ]
    }
   ],
   "source": [
    "#Search\n",
    "print(3 in this_is_a_list)"
   ]
  },
  {
   "cell_type": "code",
   "execution_count": 10,
   "metadata": {
    "collapsed": false
   },
   "outputs": [
    {
     "name": "stdout",
     "output_type": "stream",
     "text": [
      "3\n"
     ]
    }
   ],
   "source": [
    "#Find index\n",
    "print(this_is_a_list.index(4))"
   ]
  },
  {
   "cell_type": "markdown",
   "metadata": {},
   "source": [
    "**Length**"
   ]
  },
  {
   "cell_type": "code",
   "execution_count": 10,
   "metadata": {
    "collapsed": false
   },
   "outputs": [
    {
     "name": "stdout",
     "output_type": "stream",
     "text": [
      "Length:  3\n"
     ]
    }
   ],
   "source": [
    "## Count the number of elements in a list\n",
    "this_is_a_list = [1, 3, 2]\n",
    "len_this_is_a_list = len(this_is_a_list) #you tell the computer to sum it and save it as `sum_this_is_a_list` \n",
    "print(\"Length: \", len_this_is_a_list)"
   ]
  },
  {
   "cell_type": "markdown",
   "metadata": {},
   "source": [
    "**Sort**"
   ]
  },
  {
   "cell_type": "code",
   "execution_count": 17,
   "metadata": {
    "collapsed": false
   },
   "outputs": [
    {
     "name": "stdout",
     "output_type": "stream",
     "text": [
      "Sorted:  [1, 2, 3]\n"
     ]
    }
   ],
   "source": [
    "## Sort a list\n",
    "this_is_a_list = [1, 3, 2]\n",
    "this_is_a_list = sorted(this_is_a_list) #you tell the computer to sort it, and to save it with the same name\n",
    "print(\"Sorted: \", this_is_a_list)"
   ]
  },
  {
   "cell_type": "markdown",
   "metadata": {},
   "source": [
    "**Sum**"
   ]
  },
  {
   "cell_type": "code",
   "execution_count": 16,
   "metadata": {
    "collapsed": false
   },
   "outputs": [
    {
     "name": "stdout",
     "output_type": "stream",
     "text": [
      "Sum:  6\n"
     ]
    }
   ],
   "source": [
    "## Sum a list\n",
    "this_is_a_list = [1, 3, 2]\n",
    "sum_this_is_a_list = sum(this_is_a_list) #you tell the computer to sum it and save it as `sum_this_is_a_list` \n",
    "print(\"Sum: \", sum_this_is_a_list)"
   ]
  },
  {
   "cell_type": "code",
   "execution_count": 6,
   "metadata": {
    "collapsed": false
   },
   "outputs": [
    {
     "ename": "TypeError",
     "evalue": "unsupported operand type(s) for +: 'int' and 'str'",
     "output_type": "error",
     "traceback": [
      "\u001b[0;31m---------------------------------------------------------------------------\u001b[0m",
      "\u001b[0;31mTypeError\u001b[0m                                 Traceback (most recent call last)",
      "\u001b[0;32m<ipython-input-6-e54effb7b228>\u001b[0m in \u001b[0;36m<module>\u001b[0;34m()\u001b[0m\n\u001b[0;32m----> 1\u001b[0;31m \u001b[0msum\u001b[0m\u001b[0;34m(\u001b[0m\u001b[0;34m[\u001b[0m\u001b[0;34m\"1\"\u001b[0m\u001b[0;34m,\u001b[0m\u001b[0;34m\"2\"\u001b[0m\u001b[0;34m]\u001b[0m\u001b[0;34m)\u001b[0m\u001b[0;34m\u001b[0m\u001b[0m\n\u001b[0m",
      "\u001b[0;31mTypeError\u001b[0m: unsupported operand type(s) for +: 'int' and 'str'"
     ]
    }
   ],
   "source": [
    "sum([\"1\",\"2\"])"
   ]
  },
  {
   "cell_type": "markdown",
   "metadata": {},
   "source": [
    "**Notice that we wrote `this_is_a_list.pop()`, but `sum(this_is_a_list)` and `sorted(this_is_a_list)`**\n",
    "\n",
    "This is because `.pop()` only works in lists (*`.pop()` is a method of the data structure List*), while `sum()` and `sorted()` work with many different data structures. \n",
    "\n",
    "Some standard functions:\n",
    "- sum()\n",
    "- len()\n",
    "- sorted()\n",
    "- min()\n",
    "- max() \n",
    "- list() #convert to list\n",
    "- set() #convert to set\n",
    "- dict() #convert to dictionary\n",
    "- tuple() #convert to tuple\n",
    "- float() #convert to float\n"
   ]
  },
  {
   "cell_type": "code",
   "execution_count": 11,
   "metadata": {
    "collapsed": false
   },
   "outputs": [
    {
     "name": "stdout",
     "output_type": "stream",
     "text": [
      "1.0\n"
     ]
    }
   ],
   "source": [
    "print(float(\"1\"))"
   ]
  },
  {
   "cell_type": "markdown",
   "metadata": {},
   "source": [
    "#### CREATING RANGES\n",
    "- range(start,stop,step) generates a list of numbers between `start` and `stop` (not including the number `stop`), jumping in steps of size `step`. \n",
    "- See examples below.\n",
    "- Useful for example if we want to do one thing many times. We will see their importance on Thursday.\n",
    "- They are not really lists but very similar, in the examples I'll convert them to lists to see what's inside."
   ]
  },
  {
   "cell_type": "code",
   "execution_count": 29,
   "metadata": {
    "collapsed": false
   },
   "outputs": [
    {
     "name": "stdout",
     "output_type": "stream",
     "text": [
      "[0, 1, 2, 3, 4]\n",
      "range(0, 5)\n"
     ]
    }
   ],
   "source": [
    "## Create a list [0,1,2,3,4]\n",
    "print(list(range(0,5,1)))\n",
    "print(range(5)) #for all practical issues you don't need to convert them"
   ]
  },
  {
   "cell_type": "code",
   "execution_count": 12,
   "metadata": {
    "collapsed": false
   },
   "outputs": [
    {
     "name": "stdout",
     "output_type": "stream",
     "text": [
      "[1, 2, 3, 4]\n"
     ]
    }
   ],
   "source": [
    "## Create the list [1,2,3,4]\n",
    "print(list(range(1,5,1)))"
   ]
  },
  {
   "cell_type": "code",
   "execution_count": 13,
   "metadata": {
    "collapsed": false
   },
   "outputs": [
    {
     "name": "stdout",
     "output_type": "stream",
     "text": [
      "[1, 3, 5, 7, 9]\n"
     ]
    }
   ],
   "source": [
    "## Create the list [1,3,4,5,7,9]\n",
    "print(list(range(1,10,2)))"
   ]
  },
  {
   "cell_type": "code",
   "execution_count": 4,
   "metadata": {
    "collapsed": false
   },
   "outputs": [
    {
     "data": {
      "text/plain": [
       "array([ 0. ,  0.5,  1. ,  1.5,  2. ,  2.5,  3. ,  3.5,  4. ,  4.5])"
      ]
     },
     "execution_count": 4,
     "metadata": {},
     "output_type": "execute_result"
    }
   ],
   "source": [
    "import numpy as np\n",
    "np.arange(0,5,0.5)"
   ]
  },
  {
   "cell_type": "markdown",
   "metadata": {},
   "source": [
    "**WORKING WITH STRINGS AND LISTS**\n",
    "- Divide a string into words\n",
    "- Join many words in a list into a string\n",
    "- Replace an element\n",
    "- Find an element"
   ]
  },
  {
   "cell_type": "code",
   "execution_count": 278,
   "metadata": {
    "collapsed": false
   },
   "outputs": [
    {
     "name": "stdout",
     "output_type": "stream",
     "text": [
      "['eggs', 'and', 'bacon']\n"
     ]
    }
   ],
   "source": [
    "#we create a string and call it \"eggs and bacon\"\n",
    "our_string = \"eggs and bacon\"\n",
    "#now we divide it into words, creating a list and saving it with the name our_list_of_wrods\n",
    "our_list_of_words = our_string.split()\n",
    "print(our_list_of_words)"
   ]
  },
  {
   "cell_type": "code",
   "execution_count": 279,
   "metadata": {
    "collapsed": false
   },
   "outputs": [
    {
     "data": {
      "text/plain": [
       "'eggs and bacon'"
      ]
     },
     "execution_count": 279,
     "metadata": {},
     "output_type": "execute_result"
    }
   ],
   "source": [
    "#we can do the opossite and join the words using the function \"join\". \n",
    "\" \".join(our_list_of_words)"
   ]
  },
  {
   "cell_type": "code",
   "execution_count": 280,
   "metadata": {
    "collapsed": false
   },
   "outputs": [
    {
     "data": {
      "text/plain": [
       "'eggs:::and:::bacon'"
      ]
     },
     "execution_count": 280,
     "metadata": {},
     "output_type": "execute_result"
    }
   ],
   "source": [
    "#we can join the words using any character we want in the quoted par of (\" \".join)\n",
    "\":::\".join(our_list_of_words)"
   ]
  },
  {
   "cell_type": "code",
   "execution_count": 23,
   "metadata": {
    "collapsed": false
   },
   "outputs": [
    {
     "name": "stdout",
     "output_type": "stream",
     "text": [
      "['eggs ', 'nd b', 'con']\n"
     ]
    }
   ],
   "source": [
    "#we can also divide a string using other characters instead of space. \n",
    "#for example let's split in the \"a\"s\n",
    "our_string = \"eggs and bacon\"\n",
    "print(our_string.split(\"a\"))"
   ]
  },
  {
   "cell_type": "code",
   "execution_count": 15,
   "metadata": {
    "collapsed": false
   },
   "outputs": [
    {
     "name": "stdout",
     "output_type": "stream",
     "text": [
      "eggs and tofu\n"
     ]
    }
   ],
   "source": [
    "#we can change parts of the word\n",
    "our_string = \"eggs and bacon\"\n",
    "print(our_string.replace(\"bacon\",\"tofu\"))"
   ]
  },
  {
   "cell_type": "code",
   "execution_count": 286,
   "metadata": {
    "collapsed": false
   },
   "outputs": [
    {
     "name": "stdout",
     "output_type": "stream",
     "text": [
      "5\n"
     ]
    }
   ],
   "source": [
    "#we can find where a word start. For example let's find how many characters there are before \"and\"\n",
    "our_string = \"eggs and bacon and\"\n",
    "print(our_string.find(\"and\"))"
   ]
  },
  {
   "cell_type": "code",
   "execution_count": 16,
   "metadata": {
    "collapsed": false
   },
   "outputs": [
    {
     "name": "stdout",
     "output_type": "stream",
     "text": [
      "3\n",
      "4\n",
      "2\n"
     ]
    }
   ],
   "source": [
    "#and we can use this to slice the string like we did with the list\n",
    "our_string1 = \"10 events\"\n",
    "our_string2 = \"120 events\"\n",
    "our_string3 = \"2 events\"\n",
    "\n",
    "#we find the index of and\n",
    "index_and1 = our_string1.find(\"event\")\n",
    "index_and2 = our_string2.find(\"event\")\n",
    "index_and3 = our_string3.find(\"event\")\n",
    "\n",
    "print(index_and1)\n",
    "print(index_and2)\n",
    "print(index_and3)\n"
   ]
  },
  {
   "cell_type": "code",
   "execution_count": 17,
   "metadata": {
    "collapsed": false
   },
   "outputs": [
    {
     "name": "stdout",
     "output_type": "stream",
     "text": [
      "10 events\n"
     ]
    }
   ],
   "source": [
    "print(our_string1)"
   ]
  },
  {
   "cell_type": "code",
   "execution_count": 21,
   "metadata": {
    "collapsed": false
   },
   "outputs": [
    {
     "name": "stdout",
     "output_type": "stream",
     "text": [
      "10 \n",
      "120 \n",
      "2 \n"
     ]
    }
   ],
   "source": [
    "#and keep all the string until that index\n",
    "print(our_string1[:our_string1.find(\"event\")])\n",
    "print(our_string2[:index_and2])\n",
    "print(our_string3[:index_and3])"
   ]
  },
  {
   "cell_type": "markdown",
   "metadata": {},
   "source": [
    "**ipython help**\n"
   ]
  },
  {
   "cell_type": "code",
   "execution_count": 18,
   "metadata": {
    "collapsed": true
   },
   "outputs": [],
   "source": [
    "this_is_a_list?"
   ]
  },
  {
   "cell_type": "code",
   "execution_count": 20,
   "metadata": {
    "collapsed": false
   },
   "outputs": [],
   "source": [
    "our_string1.find?"
   ]
  },
  {
   "cell_type": "markdown",
   "metadata": {},
   "source": [
    "### 2.B.Tuples\n",
    "- The same than a list but inmutable (fixed size). You can't add or remove elements.\n",
    "- I (almost) never use them, but you may encounter them."
   ]
  },
  {
   "cell_type": "code",
   "execution_count": 30,
   "metadata": {
    "collapsed": false
   },
   "outputs": [
    {
     "name": "stdout",
     "output_type": "stream",
     "text": [
      "(1, 3, 2, 'b')\n",
      "[1, 3, 2, 'b']\n"
     ]
    }
   ],
   "source": [
    "this_is_a_tuple = (1,3,2,\"b\")\n",
    "print(this_is_a_tuple)\n",
    "this_is_a_list = list(this_is_a_tuple)\n",
    "print(this_is_a_list)"
   ]
  },
  {
   "cell_type": "code",
   "execution_count": 33,
   "metadata": {
    "collapsed": false
   },
   "outputs": [
    {
     "ename": "AttributeError",
     "evalue": "'tuple' object has no attribute 'pop'",
     "output_type": "error",
     "traceback": [
      "\u001b[1;31m---------------------------------------------------------------------------\u001b[0m",
      "\u001b[1;31mAttributeError\u001b[0m                            Traceback (most recent call last)",
      "\u001b[1;32m<ipython-input-33-81256b9b9870>\u001b[0m in \u001b[0;36m<module>\u001b[1;34m()\u001b[0m\n\u001b[0;32m      1\u001b[0m \u001b[1;31m#If we try to pop and elment, like with lists, we get an error.\u001b[0m\u001b[1;33m\u001b[0m\u001b[1;33m\u001b[0m\u001b[0m\n\u001b[1;32m----> 2\u001b[1;33m \u001b[0mthis_is_a_tuple\u001b[0m\u001b[1;33m.\u001b[0m\u001b[0mpop\u001b[0m\u001b[1;33m(\u001b[0m\u001b[1;36m0\u001b[0m\u001b[1;33m)\u001b[0m\u001b[1;33m\u001b[0m\u001b[0m\n\u001b[0m",
      "\u001b[1;31mAttributeError\u001b[0m: 'tuple' object has no attribute 'pop'"
     ]
    }
   ],
   "source": [
    "#If we try to pop and elment, like with lists, we get an error.\n",
    "this_is_a_tuple.pop(0)"
   ]
  },
  {
   "cell_type": "markdown",
   "metadata": {},
   "source": [
    "### 2.B.Sets\n",
    "- One element of each kind (no repeated elements!) -> If you convert a list to a set you find the *unique* elements.\n",
    "- Allows for intersecting\n",
    "- Example: Which words are different between two sets"
   ]
  },
  {
   "cell_type": "code",
   "execution_count": 272,
   "metadata": {
    "collapsed": false
   },
   "outputs": [
    {
     "data": {
      "image/png": "[encoded data removed]",
      "text/plain": [
       "<IPython.core.display.Image object>"
      ]
     },
     "execution_count": 272,
     "metadata": {},
     "output_type": "execute_result"
    }
   ],
   "source": [
    "Image(filename='./images/set-operations-illustrated-with-venn-diagrams.png')"
   ]
  },
  {
   "cell_type": "code",
   "execution_count": 12,
   "metadata": {
    "collapsed": false
   },
   "outputs": [
    {
     "data": {
      "text/plain": [
       "{1, 3}"
      ]
     },
     "execution_count": 12,
     "metadata": {},
     "output_type": "execute_result"
    }
   ],
   "source": [
    "{1,2,3} - {2,5,6} "
   ]
  },
  {
   "cell_type": "code",
   "execution_count": 273,
   "metadata": {
    "collapsed": false
   },
   "outputs": [
    {
     "name": "stdout",
     "output_type": "stream",
     "text": [
      "[3, 1, 1, 1, 2, 3]\n",
      "{1, 2, 3}\n",
      "{1, 2, 4}\n"
     ]
    }
   ],
   "source": [
    "#Let's create a list with repeated elements\n",
    "this_is_a_list = [3,1,1,1,2,3]\n",
    "print(this_is_a_list)\n",
    "#Now we convert it to a set and see how the repeated elements are gone\n",
    "this_is_a_set1 = set(this_is_a_list)\n",
    "print(this_is_a_set1)\n",
    "#You can also create sets like this\n",
    "this_is_a_set2 = {1,2,4}\n",
    "print(this_is_a_set2)"
   ]
  },
  {
   "cell_type": "code",
   "execution_count": 183,
   "metadata": {
    "collapsed": false
   },
   "outputs": [
    {
     "name": "stdout",
     "output_type": "stream",
     "text": [
      "{1, 2, 3, 4}\n"
     ]
    }
   ],
   "source": [
    "## Union\n",
    "print(this_is_a_set1 | this_is_a_set2)"
   ]
  },
  {
   "cell_type": "code",
   "execution_count": 184,
   "metadata": {
    "collapsed": false
   },
   "outputs": [
    {
     "name": "stdout",
     "output_type": "stream",
     "text": [
      "{1, 2}\n"
     ]
    }
   ],
   "source": [
    "## Intersection\n",
    "print(this_is_a_set1 & this_is_a_set2)"
   ]
  },
  {
   "cell_type": "code",
   "execution_count": 185,
   "metadata": {
    "collapsed": false
   },
   "outputs": [
    {
     "name": "stdout",
     "output_type": "stream",
     "text": [
      "{3}\n"
     ]
    }
   ],
   "source": [
    "## Diference set_1 - set2\n",
    "print(this_is_a_set1 - this_is_a_set2)"
   ]
  },
  {
   "cell_type": "code",
   "execution_count": 275,
   "metadata": {
    "collapsed": false
   },
   "outputs": [
    {
     "name": "stdout",
     "output_type": "stream",
     "text": [
      "{4}\n"
     ]
    }
   ],
   "source": [
    "## Diference set_2 - set1\n",
    "print(this_is_a_set2 - this_is_a_set1)"
   ]
  },
  {
   "cell_type": "code",
   "execution_count": 276,
   "metadata": {
    "collapsed": false
   },
   "outputs": [
    {
     "name": "stdout",
     "output_type": "stream",
     "text": [
      "{'bacon'}\n"
     ]
    }
   ],
   "source": [
    "## Very useful for words. Imagine we have two articles, one saying \"eggs bacon python\" and another saying \"bacon spam\" \n",
    "#We can find which words they have in common\n",
    "print({\"eggs\",\"bacon\",\"python\"} & {\"bacon\",\"spam\"})"
   ]
  },
  {
   "cell_type": "markdown",
   "metadata": {},
   "source": [
    "## 2.B.Dictionary\n",
    "- Like in a index, finds a page in the book very very fast.\n",
    "- It combiens keys (word in the index) with values (page number associated to the word):\n",
    "**{key1: value2, key2: value2}**\n",
    "- The keys can be numbers, strings or tuples, but NOT lists (if you try Python will give the error unhashable key)\n",
    "\n",
    "`\n",
    "We won't use dicts today so we'll cover them on Thursday\n",
    "`"
   ]
  },
  {
   "cell_type": "markdown",
   "metadata": {},
   "source": [
    "## 2.B.Numpy array\n",
    "- Part of the numpy package\n",
    "- Extremely fast (and easy) to do math\n",
    "- You can slice them like lists\n",
    "- It gives many cool functions, like mean(), or \\*\\* over a list"
   ]
  },
  {
   "cell_type": "code",
   "execution_count": 14,
   "metadata": {
    "collapsed": true
   },
   "outputs": [],
   "source": [
    "#First we need to import it\n",
    "import numpy as np"
   ]
  },
  {
   "cell_type": "code",
   "execution_count": 15,
   "metadata": {
    "collapsed": false
   },
   "outputs": [
    {
     "name": "stdout",
     "output_type": "stream",
     "text": [
      "21\n",
      "21\n"
     ]
    }
   ],
   "source": [
    "#Sum of a list\n",
    "a_list = [0,1,2,3,4,5,6]\n",
    "#Using the standard function\n",
    "print(sum(a_list))\n",
    "#Using numpy\n",
    "print(np.sum(a_list))"
   ]
  },
  {
   "cell_type": "code",
   "execution_count": 16,
   "metadata": {
    "collapsed": false
   },
   "outputs": [
    {
     "ename": "NameError",
     "evalue": "name 'mean' is not defined",
     "output_type": "error",
     "traceback": [
      "\u001b[0;31m---------------------------------------------------------------------------\u001b[0m",
      "\u001b[0;31mNameError\u001b[0m                                 Traceback (most recent call last)",
      "\u001b[0;32m<ipython-input-16-37fa84e18150>\u001b[0m in \u001b[0;36m<module>\u001b[0;34m()\u001b[0m\n\u001b[1;32m      1\u001b[0m \u001b[0;31m##How to find the mean() of a list of numbers? mean() does not exist\u001b[0m\u001b[0;34m\u001b[0m\u001b[0;34m\u001b[0m\u001b[0m\n\u001b[0;32m----> 2\u001b[0;31m \u001b[0mprint\u001b[0m\u001b[0;34m(\u001b[0m\u001b[0mmean\u001b[0m\u001b[0;34m(\u001b[0m\u001b[0ma_list\u001b[0m\u001b[0;34m)\u001b[0m\u001b[0;34m)\u001b[0m\u001b[0;34m\u001b[0m\u001b[0m\n\u001b[0m",
      "\u001b[0;31mNameError\u001b[0m: name 'mean' is not defined"
     ]
    }
   ],
   "source": [
    "##How to find the mean() of a list of numbers? mean() does not exist\n",
    "print(mean(a_list)) "
   ]
  },
  {
   "cell_type": "code",
   "execution_count": 23,
   "metadata": {
    "collapsed": false
   },
   "outputs": [
    {
     "data": {
      "text/plain": [
       "array([       0,        1,     1024,    59049,  1048576,  9765625, 60466176])"
      ]
     },
     "execution_count": 23,
     "metadata": {},
     "output_type": "execute_result"
    }
   ],
   "source": [
    "a_list = [0,1,2,3,4,5,6]\n",
    "a_np_array = np.array(a_list)\n",
    "a_np_array**10"
   ]
  },
  {
   "cell_type": "code",
   "execution_count": 16,
   "metadata": {
    "collapsed": false
   },
   "outputs": [
    {
     "name": "stdout",
     "output_type": "stream",
     "text": [
      "<class 'list'>\n",
      "<class 'numpy.ndarray'>\n",
      "3.0\n"
     ]
    }
   ],
   "source": [
    "##but numpy rescues you\n",
    "import numpy as np\n",
    "\n",
    "a_list = [0,1,2,3,4,5,6]\n",
    "\n",
    "#first convert the list to an array. \n",
    "#This is not required when you use np.mean(a_list), but it is required in some other ocassions. \n",
    "a_np_array = np.array(a_list) \n",
    "\n",
    "print(type(a_list))\n",
    "print(type(a_np_array))\n",
    "print(np.mean(a_np_array)) "
   ]
  },
  {
   "cell_type": "code",
   "execution_count": 17,
   "metadata": {
    "collapsed": false
   },
   "outputs": [
    {
     "name": "stdout",
     "output_type": "stream",
     "text": [
      "[ 0  1  4  9 16 25 36]\n"
     ]
    }
   ],
   "source": [
    "##you can take powers\n",
    "print(a_np_array**2) #this would not work with a list"
   ]
  },
  {
   "cell_type": "code",
   "execution_count": 257,
   "metadata": {
    "collapsed": false
   },
   "outputs": [
    {
     "name": "stdout",
     "output_type": "stream",
     "text": [
      "[ 0.          1.          1.41421356  1.73205081  2.          2.23606798\n",
      "  2.44948974]\n"
     ]
    }
   ],
   "source": [
    "##or square roots\n",
    "print(np.sqrt(a_np_array)) #this would work with a list"
   ]
  },
  {
   "cell_type": "code",
   "execution_count": 252,
   "metadata": {
    "collapsed": false,
    "scrolled": true
   },
   "outputs": [
    {
     "name": "stdout",
     "output_type": "stream",
     "text": [
      "[0, 1, 2, 3, 4, 5, 6, 7, 8, 9]\n",
      "499.5\n",
      "288.674990257\n",
      "499.5\n",
      "ModeResult(mode=array([0]), count=array([1]))\n",
      "0.0\n"
     ]
    }
   ],
   "source": [
    "#or some basic statistics\n",
    "import numpy as np\n",
    "import scipy.stats #another library for more complicated statistics\n",
    "\n",
    "#we create a list with numbers 0,1,2...998,999\n",
    "numElements = 1000\n",
    "this_is_an_list = list(range(numElements)) \n",
    "this_is_an_array = np.array(this_is_an_list)\n",
    "print(this_is_an_array[:10]) #print only the 10 first elements to make sure it's okay\n",
    "\n",
    "#and print some stats\n",
    "print(np.mean(this_is_an_array))\n",
    "print(np.std(this_is_an_array))\n",
    "print(np.median(this_is_an_array))\n",
    "print(scipy.stats.mode(this_is_an_array))\n",
    "print(scipy.stats.skew(this_is_an_array))"
   ]
  },
  {
   "cell_type": "markdown",
   "metadata": {},
   "source": [
    "#### IMPORTANT: NUMPY ARRAYS ALLOW YOU TO FILTER BY A CONDITION\n",
    "- **array_name[array_condition]**\n",
    "- For example, maybe you have a list [1,2,3,4,5,6,7,8,9,10] and you want the elements greater or equal to 5.\n",
    "- Numpy can help"
   ]
  },
  {
   "cell_type": "code",
   "execution_count": 24,
   "metadata": {
    "collapsed": false
   },
   "outputs": [
    {
     "name": "stdout",
     "output_type": "stream",
     "text": [
      "[ 1  2  3  4  5  6  7  8  9 10]\n"
     ]
    }
   ],
   "source": [
    "#Let's start with this array\n",
    "this_is_an_array = np.array([1,2,3,4,5,6,7,8,9,10])\n",
    "print(this_is_an_array)"
   ]
  },
  {
   "cell_type": "code",
   "execution_count": 109,
   "metadata": {
    "collapsed": false
   },
   "outputs": [
    {
     "name": "stdout",
     "output_type": "stream",
     "text": [
      "[ 5  6  7  8  9 10]\n"
     ]
    }
   ],
   "source": [
    "#If we want the elements greater or equal (>=) to 5, we could do:\n",
    "print(this_is_an_array[4:])"
   ]
  },
  {
   "cell_type": "code",
   "execution_count": 25,
   "metadata": {
    "collapsed": false
   },
   "outputs": [
    {
     "name": "stdout",
     "output_type": "stream",
     "text": [
      "[ 5  9  4  3  2  8  6  7 10  1]\n"
     ]
    }
   ],
   "source": [
    "#However this case was very easy, but what getting the elements >= 5 in here:\n",
    "#[ 5,  9,  4,  3,  2,  8,  6, 7, 10,  1]\n",
    "unsorted_array = np.array([ 5,  9,  4,  3,  2,  8,  6, 7, 10,  1])\n",
    "print(unsorted_array)"
   ]
  },
  {
   "cell_type": "code",
   "execution_count": 26,
   "metadata": {
    "collapsed": false
   },
   "outputs": [
    {
     "data": {
      "text/plain": [
       "array([ True,  True, False, False, False,  True,  True,  True,  True, False], dtype=bool)"
      ]
     },
     "execution_count": 26,
     "metadata": {},
     "output_type": "execute_result"
    }
   ],
   "source": [
    "unsorted_array >= 5"
   ]
  },
  {
   "cell_type": "code",
   "execution_count": 30,
   "metadata": {
    "collapsed": false
   },
   "outputs": [
    {
     "data": {
      "text/plain": [
       "array([ 5,  9,  8,  6,  7, 10])"
      ]
     },
     "execution_count": 30,
     "metadata": {},
     "output_type": "execute_result"
    }
   ],
   "source": [
    "unsorted_array[np.array([ True,  True, False, False, False,  True,  True,  True,  True, False])]"
   ]
  },
  {
   "cell_type": "code",
   "execution_count": 261,
   "metadata": {
    "collapsed": false
   },
   "outputs": [
    {
     "name": "stdout",
     "output_type": "stream",
     "text": [
      "[ 5  9  8  6  7 10]\n"
     ]
    }
   ],
   "source": [
    "#We can do the following: unsorted_array[unsorted_array >= 5]\n",
    "#which means keep the elements of unsorted_array that are larger or equal to 5\n",
    "#unsorted_array[condition]\n",
    "print(unsorted_array[unsorted_array >= 5])\n"
   ]
  },
  {
   "cell_type": "code",
   "execution_count": 116,
   "metadata": {
    "collapsed": false
   },
   "outputs": [
    {
     "name": "stdout",
     "output_type": "stream",
     "text": [
      "[ 5  9  4  3  2  6  7  8 10  1]\n",
      "[ True  True False False False  True  True  True  True False]\n"
     ]
    }
   ],
   "source": [
    "#This is a special kind of slicing where you filter elements with a condition. \n",
    "#Lists do not allow you to do this\n",
    "#How does it work? By creating another array, of the same lenght, with False and Trues\n",
    "print(unsorted_array)\n",
    "print(this_is_an_array >= 5) #the same than comparing 3 >= 5, but numpy compares every number inside the array."
   ]
  },
  {
   "cell_type": "markdown",
   "metadata": {},
   "source": [
    " - When you do **unsorted_array[condition]**, the computer check if the first element of the array `condition` is True\n",
    " - If it is True, then it keeps the first element of `unsorted_array`.\n",
    " - The computer then checks the second element of the `condition` array.\n",
    " - If it is True, then it keeps the second element of `unsorted_array`\n",
    " - And keeps doing this until the end"
   ]
  },
  {
   "cell_type": "code",
   "execution_count": 120,
   "metadata": {
    "collapsed": false
   },
   "outputs": [
    {
     "name": "stdout",
     "output_type": "stream",
     "text": [
      "[ 5  9  6  7  8 10]\n"
     ]
    }
   ],
   "source": [
    "#We can use variables\n",
    "condition = this_is_an_array >= 5 #the computer does the = at the end always\n",
    "print(unsorted_array[condition])"
   ]
  },
  {
   "cell_type": "code",
   "execution_count": 125,
   "metadata": {
    "collapsed": false
   },
   "outputs": [
    {
     "name": "stdout",
     "output_type": "stream",
     "text": [
      "Greater than 5 [ 9  6  7  8 10]\n",
      "Greater than 5 and lower than 9 [6 7 8]\n"
     ]
    }
   ],
   "source": [
    "#What if we want to get the numbers between 5 and 9 (6, 7,9)?\n",
    "unsorted_array = np.array([ 5,  9,  4,  3,  2,  8,  6, 7, 10,  1])\n",
    "\n",
    "#We do it with two steps\n",
    "\n",
    "#Step 1: Greater than 5\n",
    "condition_gt5 = unsorted_array > 5\n",
    "unsorted_array_gt5 = unsorted_array[condition_gt5]\n",
    "print(\"Greater than 5\", unsorted_array_gt5)\n",
    "\n",
    "#Step 2: Lower than 9\n",
    "condition_lw9 = unsorted_array_gt5 < 9 #we are using the new array\n",
    "unsorted_array_gt5_lw9 = unsorted_array_gt5[condition_lw9]\n",
    "print(\"Greater than 5 and lower than 9\", unsorted_array_gt5_lw9)"
   ]
  },
  {
   "cell_type": "code",
   "execution_count": 25,
   "metadata": {
    "collapsed": false
   },
   "outputs": [
    {
     "name": "stdout",
     "output_type": "stream",
     "text": [
      "[8 6 7]\n"
     ]
    }
   ],
   "source": [
    "unsorted_array = np.array([ 5,  9,  4,  3,  2,  8,  6, 7, 10,  1])\n",
    "condition_gt5 = unsorted_array > 5\n",
    "condition_lw9 = unsorted_array < 9\n",
    "\n",
    "print(unsorted_array[condition_gt5 & condition_lw9])"
   ]
  },
  {
   "cell_type": "markdown",
   "metadata": {},
   "source": [
    "## 2.B.Pandas dataframe  I\n",
    "- They correspond to excel spreadsheets\n",
    "- Part of the pandas package\n",
    "- It is a big, complicated library that we will use a lot. \n",
    "- They are based on numpy arrays, so anything you can do with numpy arrays you can do with the rows or columns of a dataframe\n",
    "- Read/write csv files. It can also read stata or excel files (and sometimes spss), but who likes those programs.\n",
    "- Tip: Always save spreadsheets as .csv data\n",
    "\n",
    "\n",
    "\n",
    "**We'll explore it through examples**"
   ]
  },
  {
   "cell_type": "code",
   "execution_count": 31,
   "metadata": {
    "collapsed": true
   },
   "outputs": [],
   "source": [
    "##first we import it\n",
    "import pandas as pd"
   ]
  },
  {
   "cell_type": "markdown",
   "metadata": {},
   "source": [
    "---"
   ]
  },
  {
   "cell_type": "code",
   "execution_count": 19,
   "metadata": {
    "collapsed": false
   },
   "outputs": [
    {
     "data": {
      "text/html": [
       "<img src=\"http://www.relatably.com/m/img/boring-memes/when-my-friend-tell-me-a-boring-story_o_1588863.jpg\"/>"
      ],
      "text/plain": [
       "<IPython.core.display.Image object>"
      ]
     },
     "execution_count": 19,
     "metadata": {},
     "output_type": "execute_result"
    }
   ],
   "source": [
    "Image(url=\"http://www.relatably.com/m/img/boring-memes/when-my-friend-tell-me-a-boring-story_o_1588863.jpg\")"
   ]
  },
  {
   "cell_type": "markdown",
   "metadata": {},
   "source": [
    "### We know a lot about how Python works. Now let's do something more applied"
   ]
  }
 ],
 "metadata": {
  "anaconda-cloud": {},
  "kernelspec": {
   "display_name": "Python [default]",
   "language": "python",
   "name": "python3"
  },
  "language_info": {
   "codemirror_mode": {
    "name": "ipython",
    "version": 3
   },
   "file_extension": ".py",
   "mimetype": "text/x-python",
   "name": "python",
   "nbconvert_exporter": "python",
   "pygments_lexer": "ipython3",
   "version": "3.5.2"
  }
 },
 "nbformat": 4,
 "nbformat_minor": 0
}
