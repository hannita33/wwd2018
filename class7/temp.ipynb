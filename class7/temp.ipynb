{
 "cells": [
  {
   "cell_type": "code",
   "execution_count": null,
   "metadata": {
    "collapsed": true
   },
   "outputs": [],
   "source": [
    "attacks_and_shapes_summed[\"poss_voters\"] = attacks_and_shapes_summed[\"Total\"]/(attacks_and_shapes_summed[\"Participat\"]/100)\n",
    "attacks_and_shapes_summed[\"rate_civ\"] = attacks_and_shapes_summed[\"sum_deaths_civ\"]/attacks_and_shapes_summed[\"poss_voters\"]\n",
    "attacks_and_shapes_summed[\"log_civ\"] = np.log10(attacks_and_shapes_summed[\"rate_civ\"])\n",
    "attacks_and_shapes_summed = attacks_and_shapes_summed.replace([np.inf,-np.inf],np.nan).dropna(subset=[\"log_civ\"])\n",
    "attacks_and_shapes_summed.groupby(\"dyad_name\").mean()[\"rate_civ\"]*1000\n",
    "keep = ['AUC - FARC','FARC - Civilians','Government of Colombia - FARC'  ]\n",
    "test = attacks_and_shapes_summed.loc[attacks_and_shapes_summed[\"dyad_name\"].isin(keep)]\n",
    "sns.lmplot(x=\"log_civ\",y=\"Fraction_y\",hue=\"dyad_name\",data=test)\n",
    "\n",
    "\n",
    "import statsmodels.formula.api as smf\n",
    "mod = smf.logit(formula='Fraction_y ~ Participat ',  data=test)\n",
    "res = mod.fit()\n",
    "print(res.summary())"
   ]
  }
 ],
 "metadata": {
  "anaconda-cloud": {},
  "kernelspec": {
   "display_name": "Python [default]",
   "language": "python",
   "name": "python3"
  },
  "language_info": {
   "codemirror_mode": {
    "name": "ipython",
    "version": 3
   },
   "file_extension": ".py",
   "mimetype": "text/x-python",
   "name": "python",
   "nbconvert_exporter": "python",
   "pygments_lexer": "ipython3",
   "version": "3.5.2"
  }
 },
 "nbformat": 4,
 "nbformat_minor": 1
}
