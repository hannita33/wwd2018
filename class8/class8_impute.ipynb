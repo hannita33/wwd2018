{
 "cells": [
  {
   "cell_type": "markdown",
   "metadata": {},
   "source": [
    "# Working with data 2017. Class 8\n",
    "## Contact\n",
    "Javier Garcia-Bernardo\n",
    "garcia@uva.nl\n",
    "\n",
    "## 1. Clustering\n",
    "## 2. Data imputation\n",
    "## 3. Dimensionality reduction"
   ]
  },
  {
   "cell_type": "code",
   "execution_count": 14,
   "metadata": {
    "collapsed": false
   },
   "outputs": [
    {
     "data": {
      "text/html": [
       "<style>.container { width:90% !important; }</style>"
      ],
      "text/plain": [
       "<IPython.core.display.HTML object>"
      ]
     },
     "metadata": {},
     "output_type": "display_data"
    }
   ],
   "source": [
    "##Some code to run at the beginning of the file, to be able to show images in the notebook\n",
    "##Don't worry about this cell\n",
    "\n",
    "#Print the plots in this screen\n",
    "%matplotlib inline \n",
    "\n",
    "#Be able to plot images saved in the hard drive\n",
    "from IPython.display import Image \n",
    "\n",
    "#Make the notebook wider\n",
    "from IPython.core.display import display, HTML \n",
    "display(HTML(\"<style>.container { width:90% !important; }</style>\"))\n",
    "\n",
    "import seaborn as sns\n",
    "import pylab as plt\n",
    "import pandas as pd\n",
    "import numpy as np\n",
    "import scipy.stats\n",
    "\n",
    "import statsmodels.formula.api as smf"
   ]
  },
  {
   "cell_type": "markdown",
   "metadata": {},
   "source": [
    "# 1. Clustering"
   ]
  },
  {
   "cell_type": "code",
   "execution_count": 15,
   "metadata": {
    "collapsed": true
   },
   "outputs": [],
   "source": [
    "#Som elibraries\n",
    "from sklearn import preprocessing\n",
    "from sklearn.cluster import DBSCAN, KMeans"
   ]
  },
  {
   "cell_type": "code",
   "execution_count": 16,
   "metadata": {
    "collapsed": false
   },
   "outputs": [
    {
     "data": {
      "text/html": [
       "<div>\n",
       "<table border=\"1\" class=\"dataframe\">\n",
       "  <thead>\n",
       "    <tr style=\"text-align: right;\">\n",
       "      <th></th>\n",
       "      <th>Company_name</th>\n",
       "      <th>Company_ID</th>\n",
       "      <th>Big3Share</th>\n",
       "      <th>Position</th>\n",
       "      <th>Revenue</th>\n",
       "      <th>Assets</th>\n",
       "      <th>Employees</th>\n",
       "      <th>MarketCap</th>\n",
       "      <th>Exchange</th>\n",
       "      <th>TypeEnt</th>\n",
       "    </tr>\n",
       "  </thead>\n",
       "  <tbody>\n",
       "    <tr>\n",
       "      <th>3626</th>\n",
       "      <td>SUMMIT STATE BANK</td>\n",
       "      <td>US942878925</td>\n",
       "      <td>0.45</td>\n",
       "      <td>8</td>\n",
       "      <td>4.295545</td>\n",
       "      <td>5.710426</td>\n",
       "      <td>1.812913</td>\n",
       "      <td>4.817658</td>\n",
       "      <td>NASDAQ National Market</td>\n",
       "      <td>Bank</td>\n",
       "    </tr>\n",
       "    <tr>\n",
       "      <th>2252</th>\n",
       "      <td>TIMKENSTEEL CORPORATION</td>\n",
       "      <td>US464024951</td>\n",
       "      <td>18.11</td>\n",
       "      <td>1</td>\n",
       "      <td>6.043834</td>\n",
       "      <td>6.057590</td>\n",
       "      <td>3.414973</td>\n",
       "      <td>5.603227</td>\n",
       "      <td>New York Stock Exchange (NYSE)</td>\n",
       "      <td>Industrial company</td>\n",
       "    </tr>\n",
       "  </tbody>\n",
       "</table>\n",
       "</div>"
      ],
      "text/plain": [
       "                 Company_name   Company_ID  Big3Share  Position   Revenue  \\\n",
       "3626        SUMMIT STATE BANK  US942878925       0.45         8  4.295545   \n",
       "2252  TIMKENSTEEL CORPORATION  US464024951      18.11         1  6.043834   \n",
       "\n",
       "        Assets  Employees  MarketCap                        Exchange  \\\n",
       "3626  5.710426   1.812913   4.817658          NASDAQ National Market   \n",
       "2252  6.057590   3.414973   5.603227  New York Stock Exchange (NYSE)   \n",
       "\n",
       "                 TypeEnt  \n",
       "3626                Bank  \n",
       "2252  Industrial company  "
      ]
     },
     "execution_count": 16,
     "metadata": {},
     "output_type": "execute_result"
    }
   ],
   "source": [
    "#Read teh data, dropna, get sample\n",
    "df = pd.read_csv(\"data/big3_position.csv\",sep=\"\\t\").dropna()\n",
    "df[\"Revenue\"] = np.log10(df[\"Revenue\"])\n",
    "df[\"Assets\"] = np.log10(df[\"Assets\"])\n",
    "df[\"Employees\"] = np.log10(df[\"Employees\"])\n",
    "df[\"MarketCap\"] = np.log10(df[\"MarketCap\"])\n",
    "df = df.replace([np.inf,-np.inf],np.nan).dropna().sample(300)\n",
    "df.head(2)"
   ]
  },
  {
   "cell_type": "code",
   "execution_count": 60,
   "metadata": {
    "collapsed": false
   },
   "outputs": [
    {
     "name": "stdout",
     "output_type": "stream",
     "text": [
      "[ -1.11910481e-13   1.85934601e-13   2.19824159e-14   2.79554158e-13]\n",
      "[ 1.  1.  1.  1.]\n"
     ]
    },
    {
     "data": {
      "text/plain": [
       "array([[-0.36876713, -0.68220535,  0.26763352, -0.80639115],\n",
       "       [-0.36325862, -0.49958626, -0.50401999,  0.04420174],\n",
       "       [-0.59109167,  0.53105902, -0.3752977 , -0.48330142],\n",
       "       ..., \n",
       "       [ 0.51807468, -0.21091708,  0.77356348,  0.14753705],\n",
       "       [ 1.07606207,  1.14466777,  0.6561359 ,  1.11508633],\n",
       "       [ 0.85340652,  0.21902024,  1.55356623,  0.58284111]])"
      ]
     },
     "execution_count": 60,
     "metadata": {},
     "output_type": "execute_result"
    }
   ],
   "source": [
    "#Scale variables to give all of them the same weight\n",
    "X = df.loc[:,[\"Revenue\",\"Assets\",\"Employees\",\"MarketCap\"]]\n",
    "X = preprocessing.scale(X)\n",
    "print(X.sum(0))\n",
    "print(X.std(0))\n",
    "X"
   ]
  },
  {
   "cell_type": "markdown",
   "metadata": {},
   "source": [
    "# 1a. Clustering with K-means \n",
    "- k-means clustering aims to partition n observations into k clusters in which each observation belongs to the cluster with the nearest mean, serving as a prototype of the cluster. This results in a partitioning of the data space into Voronoi cells.\n",
    "- Other methods: http://scikit-learn.org/stable/modules/clustering.html\n"
   ]
  },
  {
   "cell_type": "code",
   "execution_count": 69,
   "metadata": {
    "collapsed": false
   },
   "outputs": [
    {
     "data": {
      "text/plain": [
       "<seaborn.axisgrid.FacetGrid at 0x7f16052a84a8>"
      ]
     },
     "execution_count": 69,
     "metadata": {},
     "output_type": "execute_result"
    },
    {
     "data": {
      "image/png": "[encoded data removed]",
      "text/plain": [
       "<matplotlib.figure.Figure at 0x7f16052a8978>"
      ]
     },
     "metadata": {},
     "output_type": "display_data"
    }
   ],
   "source": [
    "#Get labels of each row and add a new column with the labels\n",
    "kmeans = KMeans(n_clusters=2).fit(X)\n",
    "labels = kmeans.labels_\n",
    "df[\"kmeans_labels\"] = labels\n",
    "sns.lmplot(x=\"MarketCap\",y=\"Assets\",hue=\"kmeans_labels\",fit_reg=False,data=df)"
   ]
  },
  {
   "cell_type": "markdown",
   "metadata": {},
   "source": [
    "# 1b. Clustering with DBSCAN\n",
    "- The DBSCAN algorithm views clusters as areas of high density separated by areas of low density. Due to this rather generic view, clusters found by DBSCAN can be any shape, as oppos"
   ]
  },
  {
   "cell_type": "code",
   "execution_count": 66,
   "metadata": {
    "collapsed": false
   },
   "outputs": [
    {
     "data": {
      "text/plain": [
       "<seaborn.axisgrid.FacetGrid at 0x7f1605614240>"
      ]
     },
     "execution_count": 66,
     "metadata": {},
     "output_type": "execute_result"
    },
    {
     "data": {
      "image/png": "[encoded data removed]",
      "text/plain": [
       "<matplotlib.figure.Figure at 0x7f16052f27f0>"
      ]
     },
     "metadata": {},
     "output_type": "display_data"
    }
   ],
   "source": [
    "#Get labels of each row and add a new column with the labels\n",
    "db = DBSCAN(eps=1, min_samples=10).fit(X)\n",
    "labels = db.labels_\n",
    "df[\"dbscan_labels\"] = labels\n",
    "sns.lmplot(x=\"MarketCap\",y=\"Assets\",hue=\"dbscan_labels\",fit_reg=False,data=df)"
   ]
  },
  {
   "cell_type": "code",
   "execution_count": 70,
   "metadata": {
    "collapsed": false
   },
   "outputs": [
    {
     "data": {
      "text/html": [
       "<img src=\"http://scikit-learn.org/stable/_images/sphx_glr_plot_cluster_comparison_0011.png\"/>"
      ],
      "text/plain": [
       "<IPython.core.display.Image object>"
      ]
     },
     "execution_count": 70,
     "metadata": {},
     "output_type": "execute_result"
    }
   ],
   "source": [
    "Image(url=\"http://scikit-learn.org/stable/_images/sphx_glr_plot_cluster_comparison_0011.png\")"
   ]
  },
  {
   "cell_type": "markdown",
   "metadata": {},
   "source": [
    "# 1c. Hierarchical clustering\n",
    "- Keeps aggreagating from a point"
   ]
  },
  {
   "cell_type": "code",
   "execution_count": 78,
   "metadata": {
    "collapsed": false
   },
   "outputs": [
    {
     "name": "stdout",
     "output_type": "stream",
     "text": [
      "[[   0.          150.3373409   120.10595294  155.10171976]\n",
      " [ 150.3373409     0.          193.3547258   140.18218283]\n",
      " [ 120.10595294  193.3547258     0.          190.80318619]\n",
      " [ 155.10171976  140.18218283  190.80318619    0.        ]]\n"
     ]
    },
    {
     "data": {
      "image/png": "[encoded data removed]",
      "text/plain": [
       "<matplotlib.figure.Figure at 0x7f1604cd8e48>"
      ]
     },
     "metadata": {},
     "output_type": "display_data"
    }
   ],
   "source": [
    "import scipy\n",
    "import pylab\n",
    "import scipy.cluster.hierarchy as sch\n",
    "\n",
    "# Generate distance matrix based on the difference between rows\n",
    "D = np.zeros([4,4])\n",
    "for i in range(4):\n",
    "    for j in range(4):\n",
    "        D[i,j] = np.sum(np.abs(X[:,i]-X[:,j])) #Euclidean distance or mutual information are also common\n",
    "        \n",
    "print(D)\n",
    "\n",
    "#Create the linkage and plot\n",
    "Y = sch.linkage(D, method='centroid') #many methods, single, complete...\n",
    "Z1 = sch.dendrogram(Y, orientation='right',labels=[\"Revenue\",\"Assets\",\"Employees\",\"MarketCap\"])\n"
   ]
  },
  {
   "cell_type": "markdown",
   "metadata": {},
   "source": [
    "# 2. Imputation of missing data (fancy)"
   ]
  },
  {
   "cell_type": "code",
   "execution_count": null,
   "metadata": {
    "collapsed": true
   },
   "outputs": [],
   "source": [
    "#Required libraries\n",
    "!conda install tensorflow -y\n",
    "!pip install fancyimpute\n",
    "!pip install pydot_ng"
   ]
  },
  {
   "cell_type": "code",
   "execution_count": 17,
   "metadata": {
    "collapsed": true
   },
   "outputs": [],
   "source": [
    "import sklearn.preprocessing\n",
    "import sklearn\n"
   ]
  },
  {
   "cell_type": "code",
   "execution_count": 25,
   "metadata": {
    "collapsed": false
   },
   "outputs": [
    {
     "name": "stdout",
     "output_type": "stream",
     "text": [
      "['Bank' 'Financial company' 'Foundation/Research institute'\n",
      " 'Industrial company' 'Insurance company' 'Venture capital']\n"
     ]
    },
    {
     "data": {
      "text/html": [
       "<div>\n",
       "<table border=\"1\" class=\"dataframe\">\n",
       "  <thead>\n",
       "    <tr style=\"text-align: right;\">\n",
       "      <th></th>\n",
       "      <th>Company_name</th>\n",
       "      <th>Company_ID</th>\n",
       "      <th>Big3Share</th>\n",
       "      <th>Position</th>\n",
       "      <th>Revenue</th>\n",
       "      <th>Assets</th>\n",
       "      <th>Employees</th>\n",
       "      <th>MarketCap</th>\n",
       "      <th>Exchange</th>\n",
       "      <th>TypeEnt</th>\n",
       "      <th>TypeEnt_int</th>\n",
       "    </tr>\n",
       "  </thead>\n",
       "  <tbody>\n",
       "    <tr>\n",
       "      <th>1026</th>\n",
       "      <td>UNIVEST CORPORATION OF PENNSYLVANIA</td>\n",
       "      <td>US231886144</td>\n",
       "      <td>10.61</td>\n",
       "      <td>1</td>\n",
       "      <td>5.051153</td>\n",
       "      <td>NaN</td>\n",
       "      <td>2.875061</td>\n",
       "      <td>5.597535</td>\n",
       "      <td>NASDAQ National Market</td>\n",
       "      <td>Bank</td>\n",
       "      <td>0</td>\n",
       "    </tr>\n",
       "    <tr>\n",
       "      <th>3438</th>\n",
       "      <td>ENGLOBAL CORPORATION</td>\n",
       "      <td>US880322261</td>\n",
       "      <td>0.00</td>\n",
       "      <td>113</td>\n",
       "      <td>4.900940</td>\n",
       "      <td>4.717671</td>\n",
       "      <td>NaN</td>\n",
       "      <td>4.486005</td>\n",
       "      <td>NASDAQ National Market</td>\n",
       "      <td>Industrial company</td>\n",
       "      <td>3</td>\n",
       "    </tr>\n",
       "  </tbody>\n",
       "</table>\n",
       "</div>"
      ],
      "text/plain": [
       "                             Company_name   Company_ID  Big3Share  Position  \\\n",
       "1026  UNIVEST CORPORATION OF PENNSYLVANIA  US231886144      10.61         1   \n",
       "3438                 ENGLOBAL CORPORATION  US880322261       0.00       113   \n",
       "\n",
       "       Revenue    Assets  Employees  MarketCap                Exchange  \\\n",
       "1026  5.051153       NaN   2.875061   5.597535  NASDAQ National Market   \n",
       "3438  4.900940  4.717671        NaN   4.486005  NASDAQ National Market   \n",
       "\n",
       "                 TypeEnt  TypeEnt_int  \n",
       "1026                Bank            0  \n",
       "3438  Industrial company            3  "
      ]
     },
     "execution_count": 25,
     "metadata": {},
     "output_type": "execute_result"
    }
   ],
   "source": [
    "#Read the data again but do not \n",
    "df = pd.read_csv(\"data/big3_position.csv\",sep=\"\\t\")\n",
    "df[\"Revenue\"] = np.log10(df[\"Revenue\"])\n",
    "df[\"Assets\"] = np.log10(df[\"Assets\"])\n",
    "df[\"Employees\"] = np.log10(df[\"Employees\"])\n",
    "df[\"MarketCap\"] = np.log10(df[\"MarketCap\"])\n",
    "\n",
    "\n",
    "le = sklearn.preprocessing.LabelEncoder()\n",
    "labels = le.fit_transform(df[\"TypeEnt\"])\n",
    "df[\"TypeEnt_int\"] = labels\n",
    "\n",
    "print(le.classes_)\n",
    "\n",
    "df = df.replace([np.inf,-np.inf],np.nan).sample(300)\n",
    "df.head(2)"
   ]
  },
  {
   "cell_type": "code",
   "execution_count": 19,
   "metadata": {
    "collapsed": false
   },
   "outputs": [
    {
     "data": {
      "text/plain": [
       "array([[ 5.74249575,  5.88061583,  3.15411953,  5.8793964 ,  3.        ],\n",
       "       [ 3.02036128,  4.3200008 ,         nan,  4.50479697,  3.        ],\n",
       "       [        nan,  4.67925523,  1.43136376,  4.33947132,  3.        ],\n",
       "       ..., \n",
       "       [ 5.15634922,  6.52527382,  2.72591163,  5.72049833,  0.        ],\n",
       "       [ 7.24269047,  7.91634339,  4.13987909,  7.74272263,  3.        ],\n",
       "       [ 5.81530341,  6.01313691,  3.47827783,  6.44163717,  3.        ]])"
      ]
     },
     "execution_count": 19,
     "metadata": {},
     "output_type": "execute_result"
    }
   ],
   "source": [
    "X = df.loc[:,[\"Revenue\",\"Assets\",\"Employees\",\"MarketCap\",\"TypeEnt_int\"]].values\n",
    "X"
   ]
  },
  {
   "cell_type": "code",
   "execution_count": 20,
   "metadata": {
    "collapsed": false
   },
   "outputs": [
    {
     "data": {
      "text/html": [
       "<div>\n",
       "<table border=\"1\" class=\"dataframe\">\n",
       "  <thead>\n",
       "    <tr style=\"text-align: right;\">\n",
       "      <th></th>\n",
       "      <th>Big3Share</th>\n",
       "      <th>Position</th>\n",
       "      <th>Revenue</th>\n",
       "      <th>Assets</th>\n",
       "      <th>Employees</th>\n",
       "      <th>MarketCap</th>\n",
       "      <th>TypeEnt_int</th>\n",
       "    </tr>\n",
       "  </thead>\n",
       "  <tbody>\n",
       "    <tr>\n",
       "      <th>count</th>\n",
       "      <td>300.000000</td>\n",
       "      <td>300.000000</td>\n",
       "      <td>282.000000</td>\n",
       "      <td>282.000000</td>\n",
       "      <td>265.000000</td>\n",
       "      <td>299.000000</td>\n",
       "      <td>300.000000</td>\n",
       "    </tr>\n",
       "    <tr>\n",
       "      <th>mean</th>\n",
       "      <td>10.437367</td>\n",
       "      <td>15.876667</td>\n",
       "      <td>5.528708</td>\n",
       "      <td>5.895396</td>\n",
       "      <td>2.996743</td>\n",
       "      <td>5.792453</td>\n",
       "      <td>2.486667</td>\n",
       "    </tr>\n",
       "    <tr>\n",
       "      <th>std</th>\n",
       "      <td>7.941756</td>\n",
       "      <td>34.864690</td>\n",
       "      <td>1.039280</td>\n",
       "      <td>0.958060</td>\n",
       "      <td>0.970198</td>\n",
       "      <td>0.958404</td>\n",
       "      <td>1.128747</td>\n",
       "    </tr>\n",
       "    <tr>\n",
       "      <th>min</th>\n",
       "      <td>0.000000</td>\n",
       "      <td>1.000000</td>\n",
       "      <td>2.445604</td>\n",
       "      <td>3.416141</td>\n",
       "      <td>0.000000</td>\n",
       "      <td>3.203033</td>\n",
       "      <td>0.000000</td>\n",
       "    </tr>\n",
       "    <tr>\n",
       "      <th>25%</th>\n",
       "      <td>2.547500</td>\n",
       "      <td>1.000000</td>\n",
       "      <td>4.858727</td>\n",
       "      <td>5.196890</td>\n",
       "      <td>2.296665</td>\n",
       "      <td>5.135132</td>\n",
       "      <td>3.000000</td>\n",
       "    </tr>\n",
       "    <tr>\n",
       "      <th>50%</th>\n",
       "      <td>9.960000</td>\n",
       "      <td>2.000000</td>\n",
       "      <td>5.545276</td>\n",
       "      <td>5.848815</td>\n",
       "      <td>2.976350</td>\n",
       "      <td>5.794088</td>\n",
       "      <td>3.000000</td>\n",
       "    </tr>\n",
       "    <tr>\n",
       "      <th>75%</th>\n",
       "      <td>17.797500</td>\n",
       "      <td>8.000000</td>\n",
       "      <td>6.229742</td>\n",
       "      <td>6.584106</td>\n",
       "      <td>3.664924</td>\n",
       "      <td>6.427501</td>\n",
       "      <td>3.000000</td>\n",
       "    </tr>\n",
       "    <tr>\n",
       "      <th>max</th>\n",
       "      <td>31.000000</td>\n",
       "      <td>145.000000</td>\n",
       "      <td>8.133417</td>\n",
       "      <td>9.252278</td>\n",
       "      <td>5.585461</td>\n",
       "      <td>8.411902</td>\n",
       "      <td>4.000000</td>\n",
       "    </tr>\n",
       "  </tbody>\n",
       "</table>\n",
       "</div>"
      ],
      "text/plain": [
       "        Big3Share    Position     Revenue      Assets   Employees   MarketCap  \\\n",
       "count  300.000000  300.000000  282.000000  282.000000  265.000000  299.000000   \n",
       "mean    10.437367   15.876667    5.528708    5.895396    2.996743    5.792453   \n",
       "std      7.941756   34.864690    1.039280    0.958060    0.970198    0.958404   \n",
       "min      0.000000    1.000000    2.445604    3.416141    0.000000    3.203033   \n",
       "25%      2.547500    1.000000    4.858727    5.196890    2.296665    5.135132   \n",
       "50%      9.960000    2.000000    5.545276    5.848815    2.976350    5.794088   \n",
       "75%     17.797500    8.000000    6.229742    6.584106    3.664924    6.427501   \n",
       "max     31.000000  145.000000    8.133417    9.252278    5.585461    8.411902   \n",
       "\n",
       "       TypeEnt_int  \n",
       "count   300.000000  \n",
       "mean      2.486667  \n",
       "std       1.128747  \n",
       "min       0.000000  \n",
       "25%       3.000000  \n",
       "50%       3.000000  \n",
       "75%       3.000000  \n",
       "max       4.000000  "
      ]
     },
     "execution_count": 20,
     "metadata": {},
     "output_type": "execute_result"
    }
   ],
   "source": [
    "df.describe()"
   ]
  },
  {
   "cell_type": "code",
   "execution_count": 26,
   "metadata": {
    "collapsed": false
   },
   "outputs": [
    {
     "name": "stdout",
     "output_type": "stream",
     "text": [
      "Computing pairwise distances between 300 samples\n",
      "Computing distances for sample #1/300, elapsed time: 0.003\n",
      "Computing distances for sample #101/300, elapsed time: 0.010\n",
      "Computing distances for sample #201/300, elapsed time: 0.017\n",
      "Imputing row 1/300 with 1 missing columns, elapsed time: 0.032\n",
      "Imputing row 101/300 with 0 missing columns, elapsed time: 0.033\n",
      "Imputing row 201/300 with 1 missing columns, elapsed time: 0.034\n"
     ]
    }
   ],
   "source": [
    "df.loc[:,[\"Revenue\",\"Assets\",\"Employees\",\"MarketCap\",\"TypeEnt_int\"]] = \\\n",
    "KNN(k=10).complete(df.loc[:,[\"Revenue\",\"Assets\",\"Employees\",\"MarketCap\",\"TypeEnt_int\"]])"
   ]
  },
  {
   "cell_type": "code",
   "execution_count": 27,
   "metadata": {
    "collapsed": false,
    "scrolled": true
   },
   "outputs": [
    {
     "name": "stdout",
     "output_type": "stream",
     "text": [
      "Computing pairwise distances between 300 samples\n",
      "Computing distances for sample #1/300, elapsed time: 0.003\n",
      "Computing distances for sample #101/300, elapsed time: 0.010\n",
      "Computing distances for sample #201/300, elapsed time: 0.016\n",
      "Imputing row 1/300 with 0 missing columns, elapsed time: 0.030\n",
      "Imputing row 101/300 with 0 missing columns, elapsed time: 0.031\n",
      "Imputing row 201/300 with 0 missing columns, elapsed time: 0.032\n"
     ]
    },
    {
     "data": {
      "text/html": [
       "<div>\n",
       "<table border=\"1\" class=\"dataframe\">\n",
       "  <thead>\n",
       "    <tr style=\"text-align: right;\">\n",
       "      <th></th>\n",
       "      <th>Big3Share</th>\n",
       "      <th>Position</th>\n",
       "      <th>Revenue</th>\n",
       "      <th>Assets</th>\n",
       "      <th>Employees</th>\n",
       "      <th>MarketCap</th>\n",
       "      <th>TypeEnt_int</th>\n",
       "    </tr>\n",
       "  </thead>\n",
       "  <tbody>\n",
       "    <tr>\n",
       "      <th>count</th>\n",
       "      <td>300.000000</td>\n",
       "      <td>300.000000</td>\n",
       "      <td>300.000000</td>\n",
       "      <td>300.000000</td>\n",
       "      <td>300.000000</td>\n",
       "      <td>300.000000</td>\n",
       "      <td>300.000000</td>\n",
       "    </tr>\n",
       "    <tr>\n",
       "      <th>mean</th>\n",
       "      <td>10.260067</td>\n",
       "      <td>19.356667</td>\n",
       "      <td>5.489263</td>\n",
       "      <td>5.918615</td>\n",
       "      <td>2.940216</td>\n",
       "      <td>5.793088</td>\n",
       "      <td>2.486667</td>\n",
       "    </tr>\n",
       "    <tr>\n",
       "      <th>std</th>\n",
       "      <td>8.119381</td>\n",
       "      <td>38.693325</td>\n",
       "      <td>1.053775</td>\n",
       "      <td>0.956009</td>\n",
       "      <td>0.977049</td>\n",
       "      <td>0.956864</td>\n",
       "      <td>1.128747</td>\n",
       "    </tr>\n",
       "    <tr>\n",
       "      <th>min</th>\n",
       "      <td>0.000000</td>\n",
       "      <td>1.000000</td>\n",
       "      <td>2.445604</td>\n",
       "      <td>3.416141</td>\n",
       "      <td>0.000000</td>\n",
       "      <td>3.203033</td>\n",
       "      <td>0.000000</td>\n",
       "    </tr>\n",
       "    <tr>\n",
       "      <th>25%</th>\n",
       "      <td>1.990000</td>\n",
       "      <td>1.000000</td>\n",
       "      <td>4.781916</td>\n",
       "      <td>5.238789</td>\n",
       "      <td>2.215816</td>\n",
       "      <td>5.136407</td>\n",
       "      <td>3.000000</td>\n",
       "    </tr>\n",
       "    <tr>\n",
       "      <th>50%</th>\n",
       "      <td>9.880000</td>\n",
       "      <td>2.000000</td>\n",
       "      <td>5.519391</td>\n",
       "      <td>5.883979</td>\n",
       "      <td>2.886206</td>\n",
       "      <td>5.796314</td>\n",
       "      <td>3.000000</td>\n",
       "    </tr>\n",
       "    <tr>\n",
       "      <th>75%</th>\n",
       "      <td>17.312500</td>\n",
       "      <td>9.000000</td>\n",
       "      <td>6.222067</td>\n",
       "      <td>6.585835</td>\n",
       "      <td>3.633972</td>\n",
       "      <td>6.422290</td>\n",
       "      <td>3.000000</td>\n",
       "    </tr>\n",
       "    <tr>\n",
       "      <th>max</th>\n",
       "      <td>35.130000</td>\n",
       "      <td>140.000000</td>\n",
       "      <td>8.133417</td>\n",
       "      <td>9.252278</td>\n",
       "      <td>5.585461</td>\n",
       "      <td>8.411902</td>\n",
       "      <td>4.000000</td>\n",
       "    </tr>\n",
       "  </tbody>\n",
       "</table>\n",
       "</div>"
      ],
      "text/plain": [
       "        Big3Share    Position     Revenue      Assets   Employees   MarketCap  \\\n",
       "count  300.000000  300.000000  300.000000  300.000000  300.000000  300.000000   \n",
       "mean    10.260067   19.356667    5.489263    5.918615    2.940216    5.793088   \n",
       "std      8.119381   38.693325    1.053775    0.956009    0.977049    0.956864   \n",
       "min      0.000000    1.000000    2.445604    3.416141    0.000000    3.203033   \n",
       "25%      1.990000    1.000000    4.781916    5.238789    2.215816    5.136407   \n",
       "50%      9.880000    2.000000    5.519391    5.883979    2.886206    5.796314   \n",
       "75%     17.312500    9.000000    6.222067    6.585835    3.633972    6.422290   \n",
       "max     35.130000  140.000000    8.133417    9.252278    5.585461    8.411902   \n",
       "\n",
       "       TypeEnt_int  \n",
       "count   300.000000  \n",
       "mean      2.486667  \n",
       "std       1.128747  \n",
       "min       0.000000  \n",
       "25%       3.000000  \n",
       "50%       3.000000  \n",
       "75%       3.000000  \n",
       "max       4.000000  "
      ]
     },
     "execution_count": 27,
     "metadata": {},
     "output_type": "execute_result"
    }
   ],
   "source": [
    "from fancyimpute import KNN\n",
    "\n",
    "# X is the complete data matrix\n",
    "# X_incomplete has the same values as X except a subset have been replace with NaN\n",
    "\n",
    "# Use 10 nearest rows which have a feature to fill in each row's missing features\n",
    "X_filled_knn = KNN(k=10).complete(X)\n",
    "df.loc[:,[\"Revenue\",\"Assets\",\"Employees\",\"MarketCap\",\"TypeEnt_int\"]] = X_filled_knn\n",
    "\n",
    "df.describe()"
   ]
  },
  {
   "cell_type": "code",
   "execution_count": null,
   "metadata": {
    "collapsed": true
   },
   "outputs": [],
   "source": []
  }
 ],
 "metadata": {
  "anaconda-cloud": {},
  "kernelspec": {
   "display_name": "Python [conda root]",
   "language": "python",
   "name": "conda-root-py"
  },
  "language_info": {
   "codemirror_mode": {
    "name": "ipython",
    "version": 3
   },
   "file_extension": ".py",
   "mimetype": "text/x-python",
   "name": "python",
   "nbconvert_exporter": "python",
   "pygments_lexer": "ipython3",
   "version": "3.5.2"
  }
 },
 "nbformat": 4,
 "nbformat_minor": 1
}
