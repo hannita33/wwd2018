{
 "cells": [
  {
   "cell_type": "markdown",
   "metadata": {},
   "source": [
    "# Working with data 2017. Class 1 \n",
    "## Contact\n",
    "Javier Garcia-Bernardo\n",
    "garcia@uva.nl\n",
    "\n",
    "\n",
    "## 0. Structure\n",
    "1. About Python\n",
    "2. Data types, structures and code\n",
    "3. Read csv files to dataframes\n",
    "4. Basic operations with dataframes\n",
    "5. My first plots\n",
    "6. Debugging python\n",
    "7. Summary \n"
   ]
  },
  {
   "cell_type": "code",
   "execution_count": 1,
   "metadata": {},
   "outputs": [
    {
     "data": {
      "text/html": [
       "<style>.container { width:90% !important; }</style>"
      ],
      "text/plain": [
       "<IPython.core.display.HTML object>"
      ]
     },
     "metadata": {},
     "output_type": "display_data"
    }
   ],
   "source": [
    "##Some code to run at the beginning of the file, to be able to show images in the notebook\n",
    "##Don't worry about this cell\n",
    "\n",
    "#Print the plots in this screen\n",
    "%matplotlib inline \n",
    "\n",
    "#Be able to plot images saved in the hard drive\n",
    "from IPython.display import Image \n",
    "\n",
    "#Make the notebook wider\n",
    "from IPython.core.display import display, HTML \n",
    "display(HTML(\"<style>.container { width:90% !important; }</style>\"))\n",
    "\n",
    "import pandas as pd\n",
    "import numpy as np\n",
    "import seaborn as sns\n",
    "import pylab as plt"
   ]
  },
  {
   "cell_type": "markdown",
   "metadata": {},
   "source": [
    "---"
   ]
  },
  {
   "cell_type": "markdown",
   "metadata": {},
   "source": [
    "# 5. One way to make a scatter plot\n",
    "Finally!\n",
    "- We will use the libraries matplotlib and seaborn.\n",
    "- seaborn makes beautiful plots. matplotlib is easier (and it's the base of seaborn).\n"
   ]
  },
  {
   "cell_type": "code",
   "execution_count": 25,
   "metadata": {},
   "outputs": [],
   "source": [
    "#this tells the computer to plot everything here\n",
    "%matplotlib inline \n",
    "\n",
    "#importing this library makes the default colors be beautiful\n",
    "import seaborn as sns \n",
    "\n",
    "#this import matplotlib\n",
    "import pylab as plt"
   ]
  },
  {
   "cell_type": "code",
   "execution_count": 26,
   "metadata": {},
   "outputs": [
    {
     "data": {
      "text/html": [
       "<div>\n",
       "<style>\n",
       "    .dataframe thead tr:only-child th {\n",
       "        text-align: right;\n",
       "    }\n",
       "\n",
       "    .dataframe thead th {\n",
       "        text-align: left;\n",
       "    }\n",
       "\n",
       "    .dataframe tbody tr th {\n",
       "        vertical-align: top;\n",
       "    }\n",
       "</style>\n",
       "<table border=\"1\" class=\"dataframe\">\n",
       "  <thead>\n",
       "    <tr style=\"text-align: right;\">\n",
       "      <th></th>\n",
       "      <th>person</th>\n",
       "      <th>year</th>\n",
       "      <th>treatment</th>\n",
       "      <th>score</th>\n",
       "      <th>happiness</th>\n",
       "      <th>events</th>\n",
       "    </tr>\n",
       "  </thead>\n",
       "  <tbody>\n",
       "    <tr>\n",
       "      <th>0</th>\n",
       "      <td>1</td>\n",
       "      <td>2000</td>\n",
       "      <td>1</td>\n",
       "      <td>4.0</td>\n",
       "      <td>1</td>\n",
       "      <td>1</td>\n",
       "    </tr>\n",
       "    <tr>\n",
       "      <th>1</th>\n",
       "      <td>2</td>\n",
       "      <td>2000</td>\n",
       "      <td>1</td>\n",
       "      <td>3.0</td>\n",
       "      <td>2</td>\n",
       "      <td>2</td>\n",
       "    </tr>\n",
       "    <tr>\n",
       "      <th>2</th>\n",
       "      <td>3</td>\n",
       "      <td>2000</td>\n",
       "      <td>2</td>\n",
       "      <td>6.0</td>\n",
       "      <td>3</td>\n",
       "      <td>3</td>\n",
       "    </tr>\n",
       "    <tr>\n",
       "      <th>3</th>\n",
       "      <td>4</td>\n",
       "      <td>2000</td>\n",
       "      <td>2</td>\n",
       "      <td>4.0</td>\n",
       "      <td>4</td>\n",
       "      <td>4</td>\n",
       "    </tr>\n",
       "    <tr>\n",
       "      <th>4</th>\n",
       "      <td>1</td>\n",
       "      <td>2005</td>\n",
       "      <td>1</td>\n",
       "      <td>8.0</td>\n",
       "      <td>5</td>\n",
       "      <td>5</td>\n",
       "    </tr>\n",
       "  </tbody>\n",
       "</table>\n",
       "</div>"
      ],
      "text/plain": [
       "   person  year  treatment  score  happiness  events\n",
       "0       1  2000          1    4.0          1       1\n",
       "1       2  2000          1    3.0          2       2\n",
       "2       3  2000          2    6.0          3       3\n",
       "3       4  2000          2    4.0          4       4\n",
       "4       1  2005          1    8.0          5       5"
      ]
     },
     "execution_count": 26,
     "metadata": {},
     "output_type": "execute_result"
    }
   ],
   "source": [
    "#First we reed our data\n",
    "import pandas as pd\n",
    "df = pd.read_csv(\"../1_Python/data/class1_test_csv.csv\",sep=\"\\t\",skiprows=4,na_values=[\"-9\"])\n",
    "df[\"happiness\"] = [1,2,3,4,5,6,7,8,9,10,11,12]\n",
    "df[\"events\"] = [1,2,3,4,5,6,7,8,9,10,11,12]\n",
    "df = df.dropna()\n",
    "df.head()"
   ]
  },
  {
   "cell_type": "markdown",
   "metadata": {},
   "source": [
    "## 5.1 Basic commands"
   ]
  },
  {
   "cell_type": "code",
   "execution_count": 28,
   "metadata": {},
   "outputs": [
    {
     "name": "stderr",
     "output_type": "stream",
     "text": [
      "/opt/anaconda/anaconda3/lib/python3.5/site-packages/matplotlib/axes/_axes.py:519: UserWarning: No labelled objects found. Use label='...' kwarg on individual plots.\n",
      "  warnings.warn(\"No labelled objects found. \"\n"
     ]
    },
    {
     "data": {
      "image/png": "[encoded data removed]",
      "text/plain": [
       "<matplotlib.figure.Figure at 0x7f9eb57da470>"
      ]
     },
     "metadata": {},
     "output_type": "display_data"
    },
    {
     "data": {
      "text/plain": [
       "<matplotlib.figure.Figure at 0x7f9eb5200be0>"
      ]
     },
     "metadata": {},
     "output_type": "display_data"
    }
   ],
   "source": [
    "#create a figure with a size (measured in inches!)\n",
    "plt.figure(figsize=(4,3)) \n",
    "\n",
    "#add a title to the figure\n",
    "plt.title(\"Title\")\n",
    "\n",
    "#add a label in the x and y axis\n",
    "plt.xlabel(\"X axis label\")\n",
    "plt.ylabel(\"Y axis label\",fontsize=14) #we can add the font size to all the functions where we pass text\n",
    "\n",
    "#add a legend (by default in seaborn)\n",
    "plt.legend()\n",
    "\n",
    "#use log scale in the x and y axis\n",
    "plt.xscale(\"log\")\n",
    "plt.yscale(\"log\")\n",
    "\n",
    "#trim the x axis between 1 and 100 (to make it look like you want, it depends on your specific values)\n",
    "plt.xlim((1,100))\n",
    "\n",
    "#add minor ticks (vertical/horizontal lines) with tranparency 50%\n",
    "plt.grid(which='minor',alpha=0.5)\n",
    "\n",
    "#take out the grid\n",
    "plt.grid(False)\n",
    "\n",
    "#save the figure (I CAN'T STRESS ENOUGH: SAVE AS PDF FOR ANY PAPER YOU WRITE!)\n",
    "plt.savefig(\"figures/name_of_figure.pdf\") \n",
    "\n",
    "#show the figure (not required in jupyter notebooks but still good to write it)\n",
    "plt.show()\n",
    "\n",
    "#Change the size of all fonts\n",
    "sns.set(font_scale=1.2) #20% larger fonts\n",
    "\n",
    "#Take out the vertical or horizontal grid and adjust the axis of the figure (trim them)\n",
    "sns.despine(trim=True)\n",
    "\n",
    "#Important link with many options for the visualizations\n",
    "#http://seaborn.pydata.org/tutorial/aesthetics.html"
   ]
  },
  {
   "cell_type": "markdown",
   "metadata": {},
   "source": [
    "## 5.2 Scatter plot: plt.scatter(arguments)\n",
    "Used to plot two quantitative variables against each other. We can add one extra quant. variable if we use bubble size and one qualitative if we use bubble color.\n",
    "\n",
    "Important arguments:\n",
    "- **x**: x values (an array)\n",
    "- **y**: y values (an array)\n",
    "- **c** (optional, default = \"blue\"): color (can be an array, or a string such as \"blue\")\n",
    "- **s** (optional, default = 20): size (can be an array, or a number)\n",
    "- **alpha** (optional, default = 1): transparency\n",
    "- **edgecolor** (optional, default = \"black\"): \"none\" for none\n",
    "- **cmap**: which colormap to use: http://matplotlib.org/examples/color/colormaps_reference.html\n",
    "- **label**: label of the plot for the legend\n"
   ]
  },
  {
   "cell_type": "code",
   "execution_count": 30,
   "metadata": {},
   "outputs": [
    {
     "data": {
      "text/html": [
       "<div>\n",
       "<style>\n",
       "    .dataframe thead tr:only-child th {\n",
       "        text-align: right;\n",
       "    }\n",
       "\n",
       "    .dataframe thead th {\n",
       "        text-align: left;\n",
       "    }\n",
       "\n",
       "    .dataframe tbody tr th {\n",
       "        vertical-align: top;\n",
       "    }\n",
       "</style>\n",
       "<table border=\"1\" class=\"dataframe\">\n",
       "  <thead>\n",
       "    <tr style=\"text-align: right;\">\n",
       "      <th></th>\n",
       "      <th>person</th>\n",
       "      <th>year</th>\n",
       "      <th>treatment</th>\n",
       "      <th>score</th>\n",
       "      <th>happiness</th>\n",
       "      <th>events</th>\n",
       "    </tr>\n",
       "  </thead>\n",
       "  <tbody>\n",
       "    <tr>\n",
       "      <th>0</th>\n",
       "      <td>1</td>\n",
       "      <td>2000</td>\n",
       "      <td>1</td>\n",
       "      <td>4.0</td>\n",
       "      <td>1</td>\n",
       "      <td>1</td>\n",
       "    </tr>\n",
       "    <tr>\n",
       "      <th>1</th>\n",
       "      <td>2</td>\n",
       "      <td>2000</td>\n",
       "      <td>1</td>\n",
       "      <td>3.0</td>\n",
       "      <td>2</td>\n",
       "      <td>2</td>\n",
       "    </tr>\n",
       "    <tr>\n",
       "      <th>2</th>\n",
       "      <td>3</td>\n",
       "      <td>2000</td>\n",
       "      <td>2</td>\n",
       "      <td>6.0</td>\n",
       "      <td>3</td>\n",
       "      <td>3</td>\n",
       "    </tr>\n",
       "    <tr>\n",
       "      <th>3</th>\n",
       "      <td>4</td>\n",
       "      <td>2000</td>\n",
       "      <td>2</td>\n",
       "      <td>4.0</td>\n",
       "      <td>4</td>\n",
       "      <td>4</td>\n",
       "    </tr>\n",
       "    <tr>\n",
       "      <th>4</th>\n",
       "      <td>1</td>\n",
       "      <td>2005</td>\n",
       "      <td>1</td>\n",
       "      <td>8.0</td>\n",
       "      <td>5</td>\n",
       "      <td>5</td>\n",
       "    </tr>\n",
       "  </tbody>\n",
       "</table>\n",
       "</div>"
      ],
      "text/plain": [
       "   person  year  treatment  score  happiness  events\n",
       "0       1  2000          1    4.0          1       1\n",
       "1       2  2000          1    3.0          2       2\n",
       "2       3  2000          2    6.0          3       3\n",
       "3       4  2000          2    4.0          4       4\n",
       "4       1  2005          1    8.0          5       5"
      ]
     },
     "execution_count": 30,
     "metadata": {},
     "output_type": "execute_result"
    }
   ],
   "source": [
    "df.head()"
   ]
  },
  {
   "cell_type": "code",
   "execution_count": 32,
   "metadata": {},
   "outputs": [
    {
     "data": {
      "image/png": "[encoded data removed]",
      "text/plain": [
       "<matplotlib.figure.Figure at 0x7f9eb50ed710>"
      ]
     },
     "metadata": {},
     "output_type": "display_data"
    }
   ],
   "source": [
    "x = df[\"score\"] #x values\n",
    "y = df[\"happiness\"] #y values\n",
    "c = df[\"treatment\"] #color\n",
    "s = df[\"events\"] #size\n",
    "\n",
    "#Create a figure\n",
    "plt.figure(figsize=(6,4)) \n",
    "\n",
    "#Make the scatter plot, using treatment as color, and events as size of the marker, \n",
    "#no edgecolor and a Red-Yellow-Blue colormap\n",
    "plt.scatter(x,y,c=c,s=s*20,edgecolor=\"none\",cmap=\"RdYlBu\",alpha=0.5)\n",
    "plt.xlabel(\"Score\",fontsize=12)\n",
    "plt.ylabel(\"Happiness\",fontsize=12)\n",
    "plt.show()"
   ]
  },
  {
   "cell_type": "code",
   "execution_count": 33,
   "metadata": {},
   "outputs": [],
   "source": [
    "#A function to annotate a scatter plot\n",
    "def annotate_scatter(x,y,label,data,fontsize=14):\n",
    "    \"\"\"\n",
    "    Function to annotate a scatter plot\n",
    "    \n",
    "    Input:\n",
    "    x: name of variable in x axis\n",
    "    y: name of variable in y axis\n",
    "    label: name of variable with the labels\n",
    "    data: dataframe\n",
    "    fontsize (default 14): font size\n",
    "    \n",
    "    \"\"\"\n",
    "       \n",
    "    for label,x,y in zip(data[label],data[x],data[y]):\n",
    "        plt.annotate(label,(x,y),fontsize=fontsize)"
   ]
  },
  {
   "cell_type": "code",
   "execution_count": 34,
   "metadata": {},
   "outputs": [
    {
     "data": {
      "image/png": "[encoded data removed]",
      "text/plain": [
       "<matplotlib.figure.Figure at 0x7f9eb508ce10>"
      ]
     },
     "metadata": {},
     "output_type": "display_data"
    }
   ],
   "source": [
    "x = df[\"score\"] #x values\n",
    "y = df[\"happiness\"] #y values\n",
    "c = df[\"treatment\"] #color\n",
    "s = df[\"events\"] #size\n",
    "\n",
    "#Create a figure\n",
    "plt.figure(figsize=(6,4)) \n",
    "\n",
    "#Make the scatter plot, using treatment as color, 80 as size of the marker, \n",
    "#no edgecolor and a Red-Yellow-Blue colormap\n",
    "plt.scatter(x,y,c=c,s=s*20,edgecolor=\"none\",cmap=\"RdYlBu\",alpha=0.5)\n",
    "annotate_scatter(x=\"score\",y=\"happiness\",label=\"person\",data=df)\n",
    "plt.xlabel(\"Score\",fontsize=12)\n",
    "plt.ylabel(\"Happiness\",fontsize=12)\n",
    "plt.show()\n",
    "\n"
   ]
  }
 ],
 "metadata": {
  "anaconda-cloud": {},
  "kernelspec": {
   "display_name": "Python [default]",
   "language": "python",
   "name": "python3"
  },
  "language_info": {
   "codemirror_mode": {
    "name": "ipython",
    "version": 3
   },
   "file_extension": ".py",
   "mimetype": "text/x-python",
   "name": "python",
   "nbconvert_exporter": "python",
   "pygments_lexer": "ipython3",
   "version": "3.5.4"
  }
 },
 "nbformat": 4,
 "nbformat_minor": 1
}
